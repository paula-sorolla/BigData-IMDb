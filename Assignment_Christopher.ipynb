{
 "cells": [
  {
   "cell_type": "code",
   "execution_count": 61,
   "id": "8df5c9ba",
   "metadata": {},
   "outputs": [],
   "source": [
    "from pyspark.sql.functions import col,when\n",
    "from pyspark.sql import SparkSession\n",
    "import os\n"
   ]
  },
  {
   "cell_type": "code",
   "execution_count": 5,
   "id": "139c9334",
   "metadata": {},
   "outputs": [],
   "source": [
    "\n",
    "spark = SparkSession \\\n",
    "    .builder \\\n",
    "    .appName(\"Python Spark SQL basic example\") \\\n",
    "    .config(\"spark.some.config.option\", \"some-value\") \\\n",
    "    .getOrCreate()\n"
   ]
  },
  {
   "cell_type": "code",
   "execution_count": 19,
   "id": "ffaabdd1",
   "metadata": {},
   "outputs": [
    {
     "name": "stdout",
     "output_type": "stream",
     "text": [
      "train-1\n",
      "train-2\n",
      "train-3\n",
      "train-4\n",
      "train-5\n",
      "train-6\n",
      "train-7\n",
      "train-8\n"
     ]
    }
   ],
   "source": [
    "# Here we will preprocess before insterting in our DB\n",
    "# TODO: See if its better to combine csv and then add, or add 1 by 1\n",
    "\n",
    "files = [f for f in os.listdir('.') if os.path.isfile(f)]\n",
    "for f in files:\n",
    "    filename = f.split(\".\")\n",
    "    if filename[1] == \"csv\" and (\"train\" in filename[0]):\n",
    "        print(filename[0])"
   ]
  },
  {
   "cell_type": "code",
   "execution_count": 119,
   "id": "ead9b0c2",
   "metadata": {},
   "outputs": [
    {
     "data": {
      "text/plain": [
       "993"
      ]
     },
     "execution_count": 119,
     "metadata": {},
     "output_type": "execute_result"
    }
   ],
   "source": [
    "# How to read csv's\n",
    "df1 = spark.read.option(\"delimiter\", \",\").option(\"header\", True).csv('train-2.csv')\n",
    "df1.count()"
   ]
  },
  {
   "cell_type": "code",
   "execution_count": 120,
   "id": "f47ebf14",
   "metadata": {},
   "outputs": [],
   "source": [
    "df1 = df1.na.drop(how = \"any\",subset=[\"numVotes\"])\n",
    "# Doesnt make sense to build a ratings model without having the number\n",
    "# of votes available, reduces interpretability as well, so we remove rows without numVotes\n",
    "\n",
    "df1 = df1.withColumn(\"startYear\", \\\n",
    "       when(col(\"startYear\")==\"\\\\N\" ,col(\"endYear\")) \\\n",
    "          .otherwise(col(\"startYear\"))) \n",
    "# This is a mistake, so when there is no startYear available we replace it with endYear\n",
    "\n",
    "df1 = df1.withColumn(\"originalTitle\", \\\n",
    "       when(col(\"originalTitle\")==col(\"primaryTitle\") ,\"null\") \\\n",
    "          .otherwise(col(\"originalTitle\"))) \n",
    "# When there is a similar original and primary title, remove the original title\n",
    "# since original title is reserved for non-English films and it adds noise to our data\n",
    "\n",
    "df1 = df1.drop(\"endYear\")\n",
    "# There is no startYear and endYear in movies, so delete endYear\n",
    "\n",
    "df1 =df1.withColumnRenamed(\"startYear\",\"year\")\n",
    "# Change name of startYear column to year for obvious reasons\n"
   ]
  },
  {
   "cell_type": "code",
   "execution_count": 94,
   "id": "93c693ad",
   "metadata": {},
   "outputs": [],
   "source": [
    "df1.show()"
   ]
  }
 ],
 "metadata": {
  "kernelspec": {
   "display_name": "Python 3",
   "language": "python",
   "name": "python3"
  },
  "language_info": {
   "codemirror_mode": {
    "name": "ipython",
    "version": 3
   },
   "file_extension": ".py",
   "mimetype": "text/x-python",
   "name": "python",
   "nbconvert_exporter": "python",
   "pygments_lexer": "ipython3",
   "version": "3.8.8"
  }
 },
 "nbformat": 4,
 "nbformat_minor": 5
}
