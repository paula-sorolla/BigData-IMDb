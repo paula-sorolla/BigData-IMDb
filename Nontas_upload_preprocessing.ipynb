{
 "cells": [
  {
   "cell_type": "code",
   "execution_count": 68,
   "id": "a348c0b0-1dbd-4a98-8c61-7fcbf5f9adb6",
   "metadata": {},
   "outputs": [],
   "source": [
    "import duckdb\n",
    "import numpy as np\n",
    "import pandas as pd\n",
    "import pyspark\n",
    "from pyspark.shell import spark\n",
    "from pyspark.sql import SparkSession\n",
    "from pyspark.sql import functions as func\n",
    "from pyspark.sql.types import ArrayType, FloatType, DecimalType, StringType, IntegerType\n",
    "from pyspark.sql.functions import size\n",
    "from pyspark.storagelevel import StorageLevel\n",
    "from pyspark import SparkContext\n",
    "from pyspark.sql.functions import col,when\n",
    "from pyspark.sql import SparkSession\n",
    "from pyspark.pandas.spark import functions as SF"
   ]
  },
  {
   "cell_type": "markdown",
   "id": "a7a66b4f-9414-4450-8627-543a6c9da3e1",
   "metadata": {},
   "source": [
    " - store csvs in duckdb (one or more tables?)\n",
    " - convert to spark dataframes\n",
    " - preprocess\n",
    " - feature adding\n",
    " - feed to model"
   ]
  },
  {
   "cell_type": "markdown",
   "id": "7a5d14a0-7093-4f91-b97b-420e867d2011",
   "metadata": {},
   "source": [
    "#### Connect to database and get all CSVs in one table"
   ]
  },
  {
   "cell_type": "code",
   "execution_count": 74,
   "id": "9375d034-678d-42af-bf16-fd6c9833ff92",
   "metadata": {},
   "outputs": [],
   "source": [
    "con = duckdb.connect(database=':memory:')"
   ]
  },
  {
   "cell_type": "code",
   "execution_count": 298,
   "id": "12adbcc6-c5f7-4450-bd01-03a60ff40b32",
   "metadata": {},
   "outputs": [
    {
     "data": {
      "text/plain": [
       "<duckdb.DuckDBPyConnection at 0x55b8c8ecf0>"
      ]
     },
     "execution_count": 298,
     "metadata": {},
     "output_type": "execute_result"
    }
   ],
   "source": [
    "#con.execute('''DROP TABLE train''')"
   ]
  },
  {
   "cell_type": "code",
   "execution_count": 299,
   "id": "8822153e-930e-4bb6-b6e0-657c60a38cec",
   "metadata": {},
   "outputs": [
    {
     "data": {
      "text/plain": [
       "<duckdb.DuckDBPyConnection at 0x55b8c8ecf0>"
      ]
     },
     "execution_count": 299,
     "metadata": {},
     "output_type": "execute_result"
    }
   ],
   "source": [
    "con.execute('''\n",
    "CREATE TABLE train(num INT, tconst VARCHAR, primaryTitle VARCHAR, originalTitle VARCHAR, startYear varchar,\n",
    "endYear varchar, runtimeMinutes VARCHAR, numVotes FLOAT, label BOOL);\n",
    "''')"
   ]
  },
  {
   "cell_type": "code",
   "execution_count": 307,
   "id": "af0fe4f8-f806-4b73-9adc-335d483f78f2",
   "metadata": {},
   "outputs": [
    {
     "data": {
      "text/plain": [
       "<duckdb.DuckDBPyConnection at 0x55b8c8ecf0>"
      ]
     },
     "execution_count": 307,
     "metadata": {},
     "output_type": "execute_result"
    }
   ],
   "source": [
    "#With copy the CSVs are appended to one table\n",
    "#This was run 8 times\n",
    "con.execute('''\n",
    "COPY train FROM 'train-8.csv' (AUTO_DETECT TRUE)\n",
    "''')"
   ]
  },
  {
   "cell_type": "code",
   "execution_count": 308,
   "id": "c164f8f4-da14-46ec-9a49-fa12c2379b44",
   "metadata": {},
   "outputs": [
    {
     "data": {
      "text/html": [
       "<div>\n",
       "<style scoped>\n",
       "    .dataframe tbody tr th:only-of-type {\n",
       "        vertical-align: middle;\n",
       "    }\n",
       "\n",
       "    .dataframe tbody tr th {\n",
       "        vertical-align: top;\n",
       "    }\n",
       "\n",
       "    .dataframe thead th {\n",
       "        text-align: right;\n",
       "    }\n",
       "</style>\n",
       "<table border=\"1\" class=\"dataframe\">\n",
       "  <thead>\n",
       "    <tr style=\"text-align: right;\">\n",
       "      <th></th>\n",
       "      <th>num</th>\n",
       "      <th>tconst</th>\n",
       "      <th>primarytitle</th>\n",
       "      <th>originaltitle</th>\n",
       "      <th>startyear</th>\n",
       "      <th>endyear</th>\n",
       "      <th>runtimeminutes</th>\n",
       "      <th>numvotes</th>\n",
       "      <th>label</th>\n",
       "    </tr>\n",
       "  </thead>\n",
       "  <tbody>\n",
       "    <tr>\n",
       "      <th>0</th>\n",
       "      <td>4</td>\n",
       "      <td>tt0010600</td>\n",
       "      <td>The Doll</td>\n",
       "      <td>Die Puppe</td>\n",
       "      <td>1919</td>\n",
       "      <td>\\N</td>\n",
       "      <td>66</td>\n",
       "      <td>1898.0</td>\n",
       "      <td>True</td>\n",
       "    </tr>\n",
       "    <tr>\n",
       "      <th>1</th>\n",
       "      <td>7</td>\n",
       "      <td>tt0011841</td>\n",
       "      <td>Way Down East</td>\n",
       "      <td>Way Down East</td>\n",
       "      <td>1920</td>\n",
       "      <td>\\N</td>\n",
       "      <td>145</td>\n",
       "      <td>5376.0</td>\n",
       "      <td>True</td>\n",
       "    </tr>\n",
       "    <tr>\n",
       "      <th>2</th>\n",
       "      <td>9</td>\n",
       "      <td>tt0012494</td>\n",
       "      <td>Déstiny</td>\n",
       "      <td>Der müde Tod</td>\n",
       "      <td>1921</td>\n",
       "      <td>\\N</td>\n",
       "      <td>97</td>\n",
       "      <td>5842.0</td>\n",
       "      <td>True</td>\n",
       "    </tr>\n",
       "    <tr>\n",
       "      <th>3</th>\n",
       "      <td>25</td>\n",
       "      <td>tt0015163</td>\n",
       "      <td>The Navigator</td>\n",
       "      <td>The Navigator</td>\n",
       "      <td>1924</td>\n",
       "      <td>\\N</td>\n",
       "      <td>59</td>\n",
       "      <td>9652.0</td>\n",
       "      <td>True</td>\n",
       "    </tr>\n",
       "    <tr>\n",
       "      <th>4</th>\n",
       "      <td>38</td>\n",
       "      <td>tt0016220</td>\n",
       "      <td>The Phantom of the Opera</td>\n",
       "      <td>The Phantom of the Opera</td>\n",
       "      <td>1925</td>\n",
       "      <td>\\N</td>\n",
       "      <td>93</td>\n",
       "      <td>17887.0</td>\n",
       "      <td>True</td>\n",
       "    </tr>\n",
       "    <tr>\n",
       "      <th>...</th>\n",
       "      <td>...</td>\n",
       "      <td>...</td>\n",
       "      <td>...</td>\n",
       "      <td>...</td>\n",
       "      <td>...</td>\n",
       "      <td>...</td>\n",
       "      <td>...</td>\n",
       "      <td>...</td>\n",
       "      <td>...</td>\n",
       "    </tr>\n",
       "    <tr>\n",
       "      <th>7954</th>\n",
       "      <td>9966</td>\n",
       "      <td>tt9625664</td>\n",
       "      <td>Trauma Center</td>\n",
       "      <td>NaN</td>\n",
       "      <td>2019</td>\n",
       "      <td>\\N</td>\n",
       "      <td>87</td>\n",
       "      <td>12951.0</td>\n",
       "      <td>False</td>\n",
       "    </tr>\n",
       "    <tr>\n",
       "      <th>7955</th>\n",
       "      <td>9981</td>\n",
       "      <td>tt9741310</td>\n",
       "      <td>Slaxx</td>\n",
       "      <td>Slaxx</td>\n",
       "      <td>2020</td>\n",
       "      <td>\\N</td>\n",
       "      <td>77</td>\n",
       "      <td>2464.0</td>\n",
       "      <td>False</td>\n",
       "    </tr>\n",
       "    <tr>\n",
       "      <th>7956</th>\n",
       "      <td>9982</td>\n",
       "      <td>tt9742392</td>\n",
       "      <td>Kindred</td>\n",
       "      <td>Kindred</td>\n",
       "      <td>2020</td>\n",
       "      <td>\\N</td>\n",
       "      <td>101</td>\n",
       "      <td>1719.0</td>\n",
       "      <td>False</td>\n",
       "    </tr>\n",
       "    <tr>\n",
       "      <th>7957</th>\n",
       "      <td>9996</td>\n",
       "      <td>tt9850386</td>\n",
       "      <td>The Bee Gees: How Can You Mend a Broken Heart</td>\n",
       "      <td>NaN</td>\n",
       "      <td>2020</td>\n",
       "      <td>\\N</td>\n",
       "      <td>111</td>\n",
       "      <td>4144.0</td>\n",
       "      <td>True</td>\n",
       "    </tr>\n",
       "    <tr>\n",
       "      <th>7958</th>\n",
       "      <td>9999</td>\n",
       "      <td>tt9911196</td>\n",
       "      <td>The Marriage Escape</td>\n",
       "      <td>De beentjes van Sint-Hildegard</td>\n",
       "      <td>2020</td>\n",
       "      <td>\\N</td>\n",
       "      <td>103</td>\n",
       "      <td>3242.0</td>\n",
       "      <td>True</td>\n",
       "    </tr>\n",
       "  </tbody>\n",
       "</table>\n",
       "<p>7959 rows × 9 columns</p>\n",
       "</div>"
      ],
      "text/plain": [
       "       num     tconst                                   primarytitle  \\\n",
       "0        4  tt0010600                                       The Doll   \n",
       "1        7  tt0011841                                  Way Down East   \n",
       "2        9  tt0012494                                        Déstiny   \n",
       "3       25  tt0015163                                  The Navigator   \n",
       "4       38  tt0016220                       The Phantom of the Opera   \n",
       "...    ...        ...                                            ...   \n",
       "7954  9966  tt9625664                                  Trauma Center   \n",
       "7955  9981  tt9741310                                          Slaxx   \n",
       "7956  9982  tt9742392                                        Kindred   \n",
       "7957  9996  tt9850386  The Bee Gees: How Can You Mend a Broken Heart   \n",
       "7958  9999  tt9911196                            The Marriage Escape   \n",
       "\n",
       "                       originaltitle startyear endyear runtimeminutes  \\\n",
       "0                          Die Puppe      1919      \\N             66   \n",
       "1                      Way Down East      1920      \\N            145   \n",
       "2                       Der müde Tod      1921      \\N             97   \n",
       "3                      The Navigator      1924      \\N             59   \n",
       "4           The Phantom of the Opera      1925      \\N             93   \n",
       "...                              ...       ...     ...            ...   \n",
       "7954                             NaN      2019      \\N             87   \n",
       "7955                           Slaxx      2020      \\N             77   \n",
       "7956                         Kindred      2020      \\N            101   \n",
       "7957                             NaN      2020      \\N            111   \n",
       "7958  De beentjes van Sint-Hildegard      2020      \\N            103   \n",
       "\n",
       "      numvotes  label  \n",
       "0       1898.0   True  \n",
       "1       5376.0   True  \n",
       "2       5842.0   True  \n",
       "3       9652.0   True  \n",
       "4      17887.0   True  \n",
       "...        ...    ...  \n",
       "7954   12951.0  False  \n",
       "7955    2464.0  False  \n",
       "7956    1719.0  False  \n",
       "7957    4144.0   True  \n",
       "7958    3242.0   True  \n",
       "\n",
       "[7959 rows x 9 columns]"
      ]
     },
     "execution_count": 308,
     "metadata": {},
     "output_type": "execute_result"
    }
   ],
   "source": [
    "con.execute(''' SELECT * FROM train''').fetch_df()"
   ]
  },
  {
   "cell_type": "code",
   "execution_count": 310,
   "id": "50c9c074-4285-474b-97a4-135c29988110",
   "metadata": {},
   "outputs": [
    {
     "data": {
      "text/html": [
       "<div>\n",
       "<style scoped>\n",
       "    .dataframe tbody tr th:only-of-type {\n",
       "        vertical-align: middle;\n",
       "    }\n",
       "\n",
       "    .dataframe tbody tr th {\n",
       "        vertical-align: top;\n",
       "    }\n",
       "\n",
       "    .dataframe thead th {\n",
       "        text-align: right;\n",
       "    }\n",
       "</style>\n",
       "<table border=\"1\" class=\"dataframe\">\n",
       "  <thead>\n",
       "    <tr style=\"text-align: right;\">\n",
       "      <th></th>\n",
       "      <th>Count</th>\n",
       "    </tr>\n",
       "  </thead>\n",
       "  <tbody>\n",
       "    <tr>\n",
       "      <th>0</th>\n",
       "      <td>3988</td>\n",
       "    </tr>\n",
       "  </tbody>\n",
       "</table>\n",
       "</div>"
      ],
      "text/plain": [
       "   Count\n",
       "0   3988"
      ]
     },
     "execution_count": 310,
     "metadata": {},
     "output_type": "execute_result"
    }
   ],
   "source": [
    "# Re-check this! Changed the null values because I had some problems converting it to spark Df\n",
    "con.execute(''' UPDATE train\n",
    "SET originalTitle = 'none'\n",
    "WHERE originalTitle IS NULL\n",
    "''').fetch_df()"
   ]
  },
  {
   "cell_type": "markdown",
   "id": "1a84df25-3334-4b2d-a2f7-a617bc1b4e4b",
   "metadata": {},
   "source": [
    "#### From DB to Spark Df and begin preprocessing"
   ]
  },
  {
   "cell_type": "code",
   "execution_count": 110,
   "id": "dd5b97c5-46f0-467d-a238-5e5d43eece64",
   "metadata": {},
   "outputs": [],
   "source": [
    "from pyspark.sql import SQLContext\n",
    "from pyspark import SparkContext\n",
    "sc = SparkContext.getOrCreate()\n",
    "sqlContext = SQLContext(sc)"
   ]
  },
  {
   "cell_type": "code",
   "execution_count": 268,
   "id": "8d1ac31a-8cef-4017-9fff-615746bbc629",
   "metadata": {},
   "outputs": [],
   "source": [
    "# This gives an error, not sure why\n",
    "# from pyspark.sql import SQLContext\n",
    "# sqlContext = SQLContext(sc)\n",
    "# train_df = sqlContext.sql(con.execute(''' SELECT * FROM train''').fetch_df())"
   ]
  },
  {
   "cell_type": "code",
   "execution_count": 311,
   "id": "71c1ade3-8a56-4b8d-98c6-4410c83d0c18",
   "metadata": {},
   "outputs": [],
   "source": [
    "train_df=spark.createDataFrame(con.execute(\"SELECT * FROM train\").fetch_df())"
   ]
  },
  {
   "cell_type": "code",
   "execution_count": 312,
   "id": "15993f56-149a-4558-950e-05b16b88fd67",
   "metadata": {},
   "outputs": [
    {
     "name": "stderr",
     "output_type": "stream",
     "text": [
      "                                                                                \r"
     ]
    },
    {
     "name": "stdout",
     "output_type": "stream",
     "text": [
      "+---+---------+--------------------+--------------------+---------+-------+--------------+--------+-----+\n",
      "|num|   tconst|        primarytitle|       originaltitle|startyear|endyear|runtimeminutes|numvotes|label|\n",
      "+---+---------+--------------------+--------------------+---------+-------+--------------+--------+-----+\n",
      "|  4|tt0010600|            The Doll|           Die Puppe|     1919|     \\N|            66|  1898.0| true|\n",
      "|  7|tt0011841|       Way Down East|       Way Down East|     1920|     \\N|           145|  5376.0| true|\n",
      "|  9|tt0012494|             Déstiny|        Der müde Tod|     1921|     \\N|            97|  5842.0| true|\n",
      "| 25|tt0015163|       The Navigator|       The Navigator|     1924|     \\N|            59|  9652.0| true|\n",
      "| 38|tt0016220|The Phantom of th...|The Phantom of th...|     1925|     \\N|            93| 17887.0| true|\n",
      "| 42|tt0016630|     Báttling Bútlér|     Battling Butler|     1926|     \\N|            77|  3285.0| true|\n",
      "| 81|tt0021015|Juno and the Paycock|                none|     1929|     \\N|            85|  2275.0|false|\n",
      "|118|tt0023973|Thé Éáglé ánd thé...|                none|     1933|     \\N|            73|     NaN| true|\n",
      "|119|tt0023986| Émplớyéés' Éntráncé|                none|     1933|     \\N|            75|     NaN| true|\n",
      "|123|tt0024184|   The Invisible Man|   The Invisible Man|     1933|     \\N|            71| 33562.0| true|\n",
      "|125|tt0024216|           King Kong|           King Kong|     1933|     \\N|           100| 83177.0| true|\n",
      "|135|tt0025028|               Dames|                none|     1934|     \\N|            91|  2038.0| true|\n",
      "|163|tt0027478|The Crime of Mons...|Le crime de Monsi...|     1936|     \\N|            80|     NaN| true|\n",
      "|180|tt0028333|          Swing Timé|                none|     1936|     \\N|           103|     NaN| true|\n",
      "|215|tt0030341|   The Lady Vanishes|   The Lady Vanishes|     1938|     \\N|            96| 50707.0| true|\n",
      "|222|tt0031143|The Cat and the C...|                none|     1939|     \\N|            72|  2967.0| true|\n",
      "|231|tt0031385|  Goodbye, Mr. Chips|                none|     1939|     \\N|           114| 10311.0| true|\n",
      "|239|tt0031647|            Midnight|                none|     1939|     \\N|            94|  4904.0| true|\n",
      "|242|tt0031762|Only Angels Have ...|                none|     1939|     \\N|           121| 13595.0| true|\n",
      "|253|tt0032156|The Story of the ...|  Zangiku monogatari|     1939|     \\N|           143|  3600.0| true|\n",
      "+---+---------+--------------------+--------------------+---------+-------+--------------+--------+-----+\n",
      "only showing top 20 rows\n",
      "\n"
     ]
    }
   ],
   "source": [
    "train_df.show()"
   ]
  },
  {
   "cell_type": "code",
   "execution_count": 185,
   "id": "352f034e-9aa1-47b4-8bc8-6b201f3ac3ea",
   "metadata": {},
   "outputs": [
    {
     "name": "stdout",
     "output_type": "stream",
     "text": [
      "root\n",
      " |-- num: long (nullable = true)\n",
      " |-- tconst: string (nullable = true)\n",
      " |-- primarytitle: string (nullable = true)\n",
      " |-- originaltitle: string (nullable = true)\n",
      " |-- startyear: string (nullable = true)\n",
      " |-- endyear: string (nullable = true)\n",
      " |-- runtimeminutes: string (nullable = true)\n",
      " |-- numvotes: double (nullable = true)\n",
      " |-- label: boolean (nullable = true)\n",
      "\n"
     ]
    }
   ],
   "source": [
    "train_df.printSchema()"
   ]
  },
  {
   "cell_type": "markdown",
   "id": "3021174e-3012-4c3a-83d6-51b86c62a02e",
   "metadata": {},
   "source": [
    "Check for duplicates (this is tricky)"
   ]
  },
  {
   "cell_type": "code",
   "execution_count": 186,
   "id": "6735874c-e217-4e66-93d6-5b4909c2a647",
   "metadata": {},
   "outputs": [
    {
     "name": "stderr",
     "output_type": "stream",
     "text": [
      "                                                                                \r"
     ]
    },
    {
     "name": "stdout",
     "output_type": "stream",
     "text": [
      "+---+---------+--------------------+-----------------+---------+-------+--------------+--------+-----+\n",
      "|num|   tconst|        primarytitle|    originaltitle|startyear|endyear|runtimeminutes|numvotes|label|\n",
      "+---+---------+--------------------+-----------------+---------+-------+--------------+--------+-----+\n",
      "|  2|tt0009369|              Mickey|           Mickey|     1918|     \\N|            93|  1119.0|false|\n",
      "|  4|tt0010600|            The Doll|        Die Puppe|     1919|     \\N|            66|  1898.0| true|\n",
      "|  5|tt0011439|   The Mark of Zorro|The Mark of Zorro|     1920|     \\N|            79|  2439.0| true|\n",
      "|  6|tt0011607|  The Parson's Widow|       Prästänkan|     1920|     \\N|            94|  1264.0| true|\n",
      "|  7|tt0011841|       Way Down East|    Way Down East|     1920|     \\N|           145|  5376.0| true|\n",
      "|  8|tt0012349|             The Kid|             none|     1921|     \\N|            68|121452.0| true|\n",
      "|  9|tt0012494|             Déstiny|     Der müde Tod|     1921|     \\N|            97|  5842.0| true|\n",
      "| 10|tt0012532|Ớrpháns ớf thé Stớrm|             none|     1921|     \\N|           150|     NaN| true|\n",
      "| 11|tt0013257|               Häxan|            Häxan|     1922|     \\N|            91| 13679.0| true|\n",
      "| 12|tt0013556|          Robin Hood|             none|     1922|     \\N|           143|  2178.0| true|\n",
      "| 13|tt0013933|  The Faithful Heart|     Coeur fidèle|     1923|     \\N|            87|  1252.0| true|\n",
      "| 14|tt0014109|The Saga of Gösta...|             none|     1924|     \\N|           183|  1231.0| true|\n",
      "| 15|tt0014142|The Hunchback of ...|             none|       \\N|   1923|           133|  5288.0| true|\n",
      "| 16|tt0014341|     Our Hospitality|  Our Hospitality|     1923|     \\N|            65| 10911.0| true|\n",
      "| 17|tt0014358|         The Pilgrim|             none|     1923|     \\N|            47|  4891.0| true|\n",
      "| 19|tt0014538|          Three Ages|             none|     1923|     \\N|            63|  4312.0| true|\n",
      "| 20|tt0014611|          Why Worry?|             none|     1923|     \\N|            63|  1739.0| true|\n",
      "| 21|tt0014945|            Girl Shy|         Girl Shy|     1924|     \\N|            87|  3327.0| true|\n",
      "| 24|tt0015064|      The Last Laugh|  Der letzte Mann|     1924|     \\N|            77|     NaN| true|\n",
      "| 25|tt0015163|       The Navigator|    The Navigator|     1924|     \\N|            59|  9652.0| true|\n",
      "+---+---------+--------------------+-----------------+---------+-------+--------------+--------+-----+\n",
      "only showing top 20 rows\n",
      "\n"
     ]
    }
   ],
   "source": [
    "train_df = train_df.dropDuplicates(['tconst'])\n",
    "train_df.show()"
   ]
  },
  {
   "cell_type": "code",
   "execution_count": 187,
   "id": "838fec27-f3fe-41f0-8b3e-3a24bff0929e",
   "metadata": {},
   "outputs": [
    {
     "name": "stderr",
     "output_type": "stream",
     "text": [
      "                                                                                \r"
     ]
    },
    {
     "data": {
      "text/plain": [
       "7959"
      ]
     },
     "execution_count": 187,
     "metadata": {},
     "output_type": "execute_result"
    }
   ],
   "source": [
    "train_df.count()"
   ]
  },
  {
   "cell_type": "markdown",
   "id": "1ced2624-6ca1-465f-af0c-2da9ff510ea2",
   "metadata": {},
   "source": [
    "It seems like we don't have duplicate, but we search closer"
   ]
  },
  {
   "cell_type": "code",
   "execution_count": 203,
   "id": "f9f73e2b-e605-4c2c-a742-10566120226a",
   "metadata": {},
   "outputs": [
    {
     "name": "stderr",
     "output_type": "stream",
     "text": [
      "22/03/21 13:06:48 WARN Executor: Issue communicating with driver in heartbeater]\n",
      "java.lang.NullPointerException\n",
      "\tat org.apache.spark.storage.memory.MemoryStore.getSize(MemoryStore.scala:133)\n",
      "\tat org.apache.spark.storage.BlockManager.org$apache$spark$storage$BlockManager$$getCurrentBlockStatus(BlockManager.scala:873)\n",
      "\tat org.apache.spark.storage.BlockManager.$anonfun$reportAllBlocks$3(BlockManager.scala:608)\n",
      "\tat org.apache.spark.storage.BlockManager.$anonfun$reportAllBlocks$3$adapted(BlockManager.scala:607)\n",
      "\tat scala.collection.Iterator.foreach(Iterator.scala:943)\n",
      "\tat scala.collection.Iterator.foreach$(Iterator.scala:943)\n",
      "\tat scala.collection.AbstractIterator.foreach(Iterator.scala:1431)\n",
      "\tat org.apache.spark.storage.BlockManager.reportAllBlocks(BlockManager.scala:607)\n",
      "\tat org.apache.spark.storage.BlockManager.reregister(BlockManager.scala:627)\n",
      "\tat org.apache.spark.executor.Executor.reportHeartBeat(Executor.scala:1009)\n",
      "\tat org.apache.spark.executor.Executor.$anonfun$heartbeater$1(Executor.scala:212)\n",
      "\tat scala.runtime.java8.JFunction0$mcV$sp.apply(JFunction0$mcV$sp.java:23)\n",
      "\tat org.apache.spark.util.Utils$.logUncaughtExceptions(Utils.scala:2019)\n",
      "\tat org.apache.spark.Heartbeater$$anon$1.run(Heartbeater.scala:46)\n",
      "\tat java.base/java.util.concurrent.Executors$RunnableAdapter.call(Executors.java:515)\n",
      "\tat java.base/java.util.concurrent.FutureTask.runAndReset(FutureTask.java:305)\n",
      "\tat java.base/java.util.concurrent.ScheduledThreadPoolExecutor$ScheduledFutureTask.run(ScheduledThreadPoolExecutor.java:305)\n",
      "\tat java.base/java.util.concurrent.ThreadPoolExecutor.runWorker(ThreadPoolExecutor.java:1128)\n",
      "\tat java.base/java.util.concurrent.ThreadPoolExecutor$Worker.run(ThreadPoolExecutor.java:628)\n",
      "\tat java.base/java.lang.Thread.run(Thread.java:829)\n",
      "                                                                                \r"
     ]
    },
    {
     "name": "stdout",
     "output_type": "stream",
     "text": [
      "+----+----------+--------------------+--------------------+---------+-------+--------------+--------+-----+\n",
      "| num|    tconst|        primarytitle|       originaltitle|startyear|endyear|runtimeminutes|numvotes|label|\n",
      "+----+----------+--------------------+--------------------+---------+-------+--------------+--------+-----+\n",
      "|5705|tt10534500|               #Home|                none|       \\N|   2021|           158| 10591.0| true|\n",
      "|2203| tt0090556|      'night, Mớthér|      'night, Mother|     1986|     \\N|            96|  2244.0| true|\n",
      "|4397| tt0349047|(T)Raumschiff Sur...|                none|     2004|     \\N|            87| 15303.0|false|\n",
      "|7602| tt2395385|                  +1|                  +1|     2013|     \\N|            96|  8065.0|false|\n",
      "|5061| tt0473567|           ...Yahaan|           ...Yahaan|     2005|     \\N|           142|     NaN| true|\n",
      "|4583| tt0381838|              ...ing|              ...ing|     2003|     \\N|           104|  2187.0| true|\n",
      "|7633| tt2416424|00 Schneider - Im...|00 Schneider - Im...|     2013|     \\N|            94|  1216.0|false|\n",
      "|2880| tt0109000|00 Schnéidér - Já...|                none|     1994|     \\N|            90|  2583.0| true|\n",
      "|7693| tt2518788|                   1|                   1|     2013|     \\N|           112|  4089.0| true|\n",
      "|8660| tt4685428|              1 Buck|                none|     2017|     \\N|            90|     NaN|false|\n",
      "|8724| tt4875960|     1 Interrogation|     1 Interrogation|     2020|     \\N|            95|  4757.0|false|\n",
      "|5185| tt0494724|    1 Litre of Tears|Ichi ritoru no na...|     2005|     \\N|            98|     NaN| true|\n",
      "|8449| tt4126694|             1 Night|                none|     2016|     \\N|            80|  1986.0|false|\n",
      "|6032| tt1179933| 10 Clớvérfiéld Láné|                none|     2016|     \\N|           103|309018.0| true|\n",
      "|7205| tt1993391|10 Rules for Slee...|                none|     2013|     \\N|            94|  2902.0|false|\n",
      "|3507| tt0147800|10 Things I Hate ...|10 Things I Hate ...|     1999|     \\N|            97|319002.0| true|\n",
      "|8825| tt5128266|    10 Éndráthúkúllá|    10 Endrathukulla|     2015|     \\N|           144|  1321.0|false|\n",
      "|4917| tt0443649|           10,000 BC|           10,000 BC|     2008|     \\N|           109|128668.0|false|\n",
      "|8136| tt3488056|     10.0 Earthquake|                none|     2014|     \\N|            88|  2156.0|false|\n",
      "|5806|tt10949778|    100 Dáys tớ Livé|    100 Days to Live|     2019|     \\N|            90|  4155.0|false|\n",
      "+----+----------+--------------------+--------------------+---------+-------+--------------+--------+-----+\n",
      "only showing top 20 rows\n",
      "\n"
     ]
    }
   ],
   "source": [
    "train_df = train_df.dropDuplicates(['primarytitle'])\n",
    "train_df.show()"
   ]
  },
  {
   "cell_type": "code",
   "execution_count": 204,
   "id": "5b28b1fd-cf00-46e8-91eb-c2307fe8de73",
   "metadata": {},
   "outputs": [
    {
     "name": "stderr",
     "output_type": "stream",
     "text": [
      "                                                                                \r"
     ]
    },
    {
     "data": {
      "text/plain": [
       "7846"
      ]
     },
     "execution_count": 204,
     "metadata": {},
     "output_type": "execute_result"
    }
   ],
   "source": [
    "train_df.count()"
   ]
  },
  {
   "cell_type": "markdown",
   "id": "1b74578e-d7b0-46b0-bff0-e0d62a2b0c28",
   "metadata": {
    "tags": []
   },
   "source": [
    "##### Drop rows that have null values in runtimeminutes/numvotes"
   ]
  },
  {
   "cell_type": "code",
   "execution_count": 313,
   "id": "9d83f16e-e6ca-42c2-9d71-35f14c2fbf44",
   "metadata": {},
   "outputs": [
    {
     "name": "stderr",
     "output_type": "stream",
     "text": [
      "                                                                                \r"
     ]
    },
    {
     "name": "stdout",
     "output_type": "stream",
     "text": [
      "+---+---------+--------------------+--------------------+---------+-------+--------------+--------+-----+\n",
      "|num|   tconst|        primarytitle|       originaltitle|startyear|endyear|runtimeminutes|numvotes|label|\n",
      "+---+---------+--------------------+--------------------+---------+-------+--------------+--------+-----+\n",
      "|  4|tt0010600|            The Doll|           Die Puppe|     1919|     \\N|            66|  1898.0| true|\n",
      "|  7|tt0011841|       Way Down East|       Way Down East|     1920|     \\N|           145|  5376.0| true|\n",
      "|  9|tt0012494|             Déstiny|        Der müde Tod|     1921|     \\N|            97|  5842.0| true|\n",
      "| 25|tt0015163|       The Navigator|       The Navigator|     1924|     \\N|            59|  9652.0| true|\n",
      "| 38|tt0016220|The Phantom of th...|The Phantom of th...|     1925|     \\N|            93| 17887.0| true|\n",
      "| 42|tt0016630|     Báttling Bútlér|     Battling Butler|     1926|     \\N|            77|  3285.0| true|\n",
      "| 81|tt0021015|Juno and the Paycock|                none|     1929|     \\N|            85|  2275.0|false|\n",
      "|123|tt0024184|   The Invisible Man|   The Invisible Man|     1933|     \\N|            71| 33562.0| true|\n",
      "|125|tt0024216|           King Kong|           King Kong|     1933|     \\N|           100| 83177.0| true|\n",
      "|135|tt0025028|               Dames|                none|     1934|     \\N|            91|  2038.0| true|\n",
      "|215|tt0030341|   The Lady Vanishes|   The Lady Vanishes|     1938|     \\N|            96| 50707.0| true|\n",
      "|222|tt0031143|The Cat and the C...|                none|     1939|     \\N|            72|  2967.0| true|\n",
      "|231|tt0031385|  Goodbye, Mr. Chips|                none|     1939|     \\N|           114| 10311.0| true|\n",
      "|239|tt0031647|            Midnight|                none|     1939|     \\N|            94|  4904.0| true|\n",
      "|242|tt0031762|Only Angels Have ...|                none|     1939|     \\N|           121| 13595.0| true|\n",
      "|253|tt0032156|The Story of the ...|  Zangiku monogatari|     1939|     \\N|           143|  3600.0| true|\n",
      "|265|tt0032520|  The Ghost Breakers|                none|     1940|     \\N|            85|  3378.0| true|\n",
      "|272|tt0032904|The Philadelphia ...|                none|       \\N|   1940|           112| 66874.0| true|\n",
      "|276|tt0033022|         Sáps át Séá|         Saps at Sea|     1940|     \\N|            56|  2766.0| true|\n",
      "|279|tt0033152| The Thief of Bagdad|                none|       \\N|   1940|           106| 12840.0| true|\n",
      "+---+---------+--------------------+--------------------+---------+-------+--------------+--------+-----+\n",
      "only showing top 20 rows\n",
      "\n"
     ]
    }
   ],
   "source": [
    "train_df = train_df.dropna(subset=[\"runtimeminutes\",\"numvotes\"])\n",
    "train_df.show()"
   ]
  },
  {
   "cell_type": "markdown",
   "id": "0a9bc717-a42d-4cad-af08-3d0cdb5d7c1d",
   "metadata": {},
   "source": [
    "##### Add YearSinceRealease feature"
   ]
  },
  {
   "cell_type": "code",
   "execution_count": 283,
   "id": "bb60985b-31b3-4dd4-8c8b-f517a273e1a7",
   "metadata": {},
   "outputs": [],
   "source": [
    "from pyspark.sql.functions import when"
   ]
  },
  {
   "cell_type": "markdown",
   "id": "92fd0362-e78d-4dc6-b532-e155ef165a95",
   "metadata": {},
   "source": [
    "Replace \\N with 2022 in endyear"
   ]
  },
  {
   "cell_type": "code",
   "execution_count": 314,
   "id": "d0f49d86-4e9f-4039-8b91-85446ebff7f1",
   "metadata": {},
   "outputs": [],
   "source": [
    "train_df = train_df.withColumn(\"endyear\", when(train_df.endyear == \"\\\\N\",\"2022\")\n",
    "                                 .otherwise(train_df.endyear))"
   ]
  },
  {
   "cell_type": "markdown",
   "id": "885c8783-12a3-4339-aad4-f02292f49c9c",
   "metadata": {},
   "source": [
    "Swap start and endyear where necesseary"
   ]
  },
  {
   "cell_type": "code",
   "execution_count": 315,
   "id": "2fe361cb-8233-4455-bf47-00c91b22f086",
   "metadata": {},
   "outputs": [],
   "source": [
    "train_df = train_df.withColumn(\"startyear\", when(train_df.startyear == \"\\\\N\", train_df.endyear)\n",
    "                              .otherwise(train_df.startyear))"
   ]
  },
  {
   "cell_type": "code",
   "execution_count": 316,
   "id": "d40d734c-449f-4c54-ba2d-3cbe2ff8b7ff",
   "metadata": {},
   "outputs": [],
   "source": [
    "train_df = train_df.withColumn(\"endyear\", when(train_df.endyear == train_df.startyear, \"2022\")\n",
    "                              .otherwise(train_df.endyear))"
   ]
  },
  {
   "cell_type": "markdown",
   "id": "fd51be63-71c3-4a64-9111-a1d8b17275af",
   "metadata": {},
   "source": [
    "Check if it was done correctly"
   ]
  },
  {
   "cell_type": "code",
   "execution_count": 317,
   "id": "328b556c-ad7e-41a5-986d-515d335af13f",
   "metadata": {},
   "outputs": [
    {
     "name": "stderr",
     "output_type": "stream",
     "text": [
      "                                                                                \r"
     ]
    },
    {
     "name": "stdout",
     "output_type": "stream",
     "text": [
      "+---+---------+--------------------+-------------+---------+-------+--------------+--------+-----+\n",
      "|num|   tconst|        primarytitle|originaltitle|startyear|endyear|runtimeminutes|numvotes|label|\n",
      "+---+---------+--------------------+-------------+---------+-------+--------------+--------+-----+\n",
      "|272|tt0032904|The Philadelphia ...|         none|     1940|   2022|           112| 66874.0| true|\n",
      "+---+---------+--------------------+-------------+---------+-------+--------------+--------+-----+\n",
      "\n"
     ]
    }
   ],
   "source": [
    "test1 = train_df.filter(train_df.primarytitle == \"The Philadelphia Story\")\n",
    "test1.show()"
   ]
  },
  {
   "cell_type": "code",
   "execution_count": 174,
   "id": "c3bc3bdf-fe45-4c71-9090-07626683bd82",
   "metadata": {},
   "outputs": [
    {
     "name": "stderr",
     "output_type": "stream",
     "text": [
      "                                                                                \r"
     ]
    },
    {
     "name": "stdout",
     "output_type": "stream",
     "text": [
      "+---+---------+-------------------+-------------+---------+-------+--------------+--------+-----+\n",
      "|num|   tconst|       primarytitle|originaltitle|startyear|endyear|runtimeminutes|numvotes|label|\n",
      "+---+---------+-------------------+-------------+---------+-------+--------------+--------+-----+\n",
      "|279|tt0033152|The Thief of Bagdad|         none|     1940|   2022|           106| 12840.0| true|\n",
      "| 31|tt0015400|The Thief of Bagdad|         none|     1924|   2022|           155|  6001.0| true|\n",
      "+---+---------+-------------------+-------------+---------+-------+--------------+--------+-----+\n",
      "\n"
     ]
    }
   ],
   "source": [
    "test2 = train_df.filter(train_df.primarytitle == \"The Thief of Bagdad\")\n",
    "test2.show()"
   ]
  },
  {
   "cell_type": "markdown",
   "id": "16190d62-4dd4-4310-96ad-79730d982591",
   "metadata": {},
   "source": [
    "#### It works!"
   ]
  },
  {
   "cell_type": "markdown",
   "id": "83b149e9-c47c-4ff7-b9aa-2abd265cc76a",
   "metadata": {},
   "source": [
    "New feature: YearSinceRelease"
   ]
  },
  {
   "cell_type": "code",
   "execution_count": 288,
   "id": "7ef05ec2-1071-4f5f-b5ab-e4997887e701",
   "metadata": {},
   "outputs": [],
   "source": [
    "train_df = train_df.withColumn('YearSinceRealease', ( train_df['endyear'] - train_df['startyear'] ))"
   ]
  },
  {
   "cell_type": "code",
   "execution_count": 289,
   "id": "2df841f0-bf0f-47dc-a348-a528161396ba",
   "metadata": {},
   "outputs": [
    {
     "name": "stderr",
     "output_type": "stream",
     "text": [
      "                                                                                \r"
     ]
    },
    {
     "name": "stdout",
     "output_type": "stream",
     "text": [
      "+---+---------+--------------------+--------------------+---------+-------+--------------+--------+-----+-----------------+\n",
      "|num|   tconst|        primarytitle|       originaltitle|startyear|endyear|runtimeminutes|numvotes|label|YearSinceRealease|\n",
      "+---+---------+--------------------+--------------------+---------+-------+--------------+--------+-----+-----------------+\n",
      "|  4|tt0010600|            The Doll|           Die Puppe|     1919|   2022|            66|  1898.0| true|            103.0|\n",
      "|  7|tt0011841|       Way Down East|       Way Down East|     1920|   2022|           145|  5376.0| true|            102.0|\n",
      "|  9|tt0012494|             Déstiny|        Der müde Tod|     1921|   2022|            97|  5842.0| true|            101.0|\n",
      "| 25|tt0015163|       The Navigator|       The Navigator|     1924|   2022|            59|  9652.0| true|             98.0|\n",
      "| 38|tt0016220|The Phantom of th...|The Phantom of th...|     1925|   2022|            93| 17887.0| true|             97.0|\n",
      "| 42|tt0016630|     Báttling Bútlér|     Battling Butler|     1926|   2022|            77|  3285.0| true|             96.0|\n",
      "| 81|tt0021015|Juno and the Paycock|                none|     1929|   2022|            85|  2275.0|false|             93.0|\n",
      "|123|tt0024184|   The Invisible Man|   The Invisible Man|     1933|   2022|            71| 33562.0| true|             89.0|\n",
      "|125|tt0024216|           King Kong|           King Kong|     1933|   2022|           100| 83177.0| true|             89.0|\n",
      "|135|tt0025028|               Dames|                none|     1934|   2022|            91|  2038.0| true|             88.0|\n",
      "|215|tt0030341|   The Lady Vanishes|   The Lady Vanishes|     1938|   2022|            96| 50707.0| true|             84.0|\n",
      "|222|tt0031143|The Cat and the C...|                none|     1939|   2022|            72|  2967.0| true|             83.0|\n",
      "|231|tt0031385|  Goodbye, Mr. Chips|                none|     1939|   2022|           114| 10311.0| true|             83.0|\n",
      "|239|tt0031647|            Midnight|                none|     1939|   2022|            94|  4904.0| true|             83.0|\n",
      "|242|tt0031762|Only Angels Have ...|                none|     1939|   2022|           121| 13595.0| true|             83.0|\n",
      "|253|tt0032156|The Story of the ...|  Zangiku monogatari|     1939|   2022|           143|  3600.0| true|             83.0|\n",
      "|265|tt0032520|  The Ghost Breakers|                none|     1940|   2022|            85|  3378.0| true|             82.0|\n",
      "|272|tt0032904|The Philadelphia ...|                none|     1940|   2022|           112| 66874.0| true|             82.0|\n",
      "|276|tt0033022|         Sáps át Séá|         Saps at Sea|     1940|   2022|            56|  2766.0| true|             82.0|\n",
      "|279|tt0033152| The Thief of Bagdad|                none|     1940|   2022|           106| 12840.0| true|             82.0|\n",
      "+---+---------+--------------------+--------------------+---------+-------+--------------+--------+-----+-----------------+\n",
      "only showing top 20 rows\n",
      "\n"
     ]
    }
   ],
   "source": [
    "train_df.show()"
   ]
  },
  {
   "cell_type": "markdown",
   "id": "c85e02f3-57e2-41c5-9f7e-1f1b1b131f19",
   "metadata": {},
   "source": [
    "Convert it to pandas dataframe in order to feed it to the model"
   ]
  },
  {
   "cell_type": "code",
   "execution_count": 290,
   "id": "56d72777-8719-40b8-a681-d9d3090eca67",
   "metadata": {},
   "outputs": [
    {
     "name": "stderr",
     "output_type": "stream",
     "text": [
      "                                                                                \r"
     ]
    }
   ],
   "source": [
    "pandas_train = train_df.toPandas()"
   ]
  },
  {
   "cell_type": "code",
   "execution_count": 291,
   "id": "1db50c7e-4b57-47f8-bf2e-dbc8df8f24a3",
   "metadata": {},
   "outputs": [
    {
     "data": {
      "text/html": [
       "<div>\n",
       "<style scoped>\n",
       "    .dataframe tbody tr th:only-of-type {\n",
       "        vertical-align: middle;\n",
       "    }\n",
       "\n",
       "    .dataframe tbody tr th {\n",
       "        vertical-align: top;\n",
       "    }\n",
       "\n",
       "    .dataframe thead th {\n",
       "        text-align: right;\n",
       "    }\n",
       "</style>\n",
       "<table border=\"1\" class=\"dataframe\">\n",
       "  <thead>\n",
       "    <tr style=\"text-align: right;\">\n",
       "      <th></th>\n",
       "      <th>num</th>\n",
       "      <th>tconst</th>\n",
       "      <th>primarytitle</th>\n",
       "      <th>originaltitle</th>\n",
       "      <th>startyear</th>\n",
       "      <th>endyear</th>\n",
       "      <th>runtimeminutes</th>\n",
       "      <th>numvotes</th>\n",
       "      <th>label</th>\n",
       "      <th>YearSinceRealease</th>\n",
       "    </tr>\n",
       "  </thead>\n",
       "  <tbody>\n",
       "    <tr>\n",
       "      <th>0</th>\n",
       "      <td>4</td>\n",
       "      <td>tt0010600</td>\n",
       "      <td>The Doll</td>\n",
       "      <td>Die Puppe</td>\n",
       "      <td>1919</td>\n",
       "      <td>2022</td>\n",
       "      <td>66</td>\n",
       "      <td>1898.0</td>\n",
       "      <td>True</td>\n",
       "      <td>103.0</td>\n",
       "    </tr>\n",
       "    <tr>\n",
       "      <th>1</th>\n",
       "      <td>7</td>\n",
       "      <td>tt0011841</td>\n",
       "      <td>Way Down East</td>\n",
       "      <td>Way Down East</td>\n",
       "      <td>1920</td>\n",
       "      <td>2022</td>\n",
       "      <td>145</td>\n",
       "      <td>5376.0</td>\n",
       "      <td>True</td>\n",
       "      <td>102.0</td>\n",
       "    </tr>\n",
       "    <tr>\n",
       "      <th>2</th>\n",
       "      <td>9</td>\n",
       "      <td>tt0012494</td>\n",
       "      <td>Déstiny</td>\n",
       "      <td>Der müde Tod</td>\n",
       "      <td>1921</td>\n",
       "      <td>2022</td>\n",
       "      <td>97</td>\n",
       "      <td>5842.0</td>\n",
       "      <td>True</td>\n",
       "      <td>101.0</td>\n",
       "    </tr>\n",
       "    <tr>\n",
       "      <th>3</th>\n",
       "      <td>25</td>\n",
       "      <td>tt0015163</td>\n",
       "      <td>The Navigator</td>\n",
       "      <td>The Navigator</td>\n",
       "      <td>1924</td>\n",
       "      <td>2022</td>\n",
       "      <td>59</td>\n",
       "      <td>9652.0</td>\n",
       "      <td>True</td>\n",
       "      <td>98.0</td>\n",
       "    </tr>\n",
       "    <tr>\n",
       "      <th>4</th>\n",
       "      <td>38</td>\n",
       "      <td>tt0016220</td>\n",
       "      <td>The Phantom of the Opera</td>\n",
       "      <td>The Phantom of the Opera</td>\n",
       "      <td>1925</td>\n",
       "      <td>2022</td>\n",
       "      <td>93</td>\n",
       "      <td>17887.0</td>\n",
       "      <td>True</td>\n",
       "      <td>97.0</td>\n",
       "    </tr>\n",
       "    <tr>\n",
       "      <th>...</th>\n",
       "      <td>...</td>\n",
       "      <td>...</td>\n",
       "      <td>...</td>\n",
       "      <td>...</td>\n",
       "      <td>...</td>\n",
       "      <td>...</td>\n",
       "      <td>...</td>\n",
       "      <td>...</td>\n",
       "      <td>...</td>\n",
       "      <td>...</td>\n",
       "    </tr>\n",
       "    <tr>\n",
       "      <th>7164</th>\n",
       "      <td>9966</td>\n",
       "      <td>tt9625664</td>\n",
       "      <td>Trauma Center</td>\n",
       "      <td>none</td>\n",
       "      <td>2019</td>\n",
       "      <td>2022</td>\n",
       "      <td>87</td>\n",
       "      <td>12951.0</td>\n",
       "      <td>False</td>\n",
       "      <td>3.0</td>\n",
       "    </tr>\n",
       "    <tr>\n",
       "      <th>7165</th>\n",
       "      <td>9981</td>\n",
       "      <td>tt9741310</td>\n",
       "      <td>Slaxx</td>\n",
       "      <td>Slaxx</td>\n",
       "      <td>2020</td>\n",
       "      <td>2022</td>\n",
       "      <td>77</td>\n",
       "      <td>2464.0</td>\n",
       "      <td>False</td>\n",
       "      <td>2.0</td>\n",
       "    </tr>\n",
       "    <tr>\n",
       "      <th>7166</th>\n",
       "      <td>9982</td>\n",
       "      <td>tt9742392</td>\n",
       "      <td>Kindred</td>\n",
       "      <td>Kindred</td>\n",
       "      <td>2020</td>\n",
       "      <td>2022</td>\n",
       "      <td>101</td>\n",
       "      <td>1719.0</td>\n",
       "      <td>False</td>\n",
       "      <td>2.0</td>\n",
       "    </tr>\n",
       "    <tr>\n",
       "      <th>7167</th>\n",
       "      <td>9996</td>\n",
       "      <td>tt9850386</td>\n",
       "      <td>The Bee Gees: How Can You Mend a Broken Heart</td>\n",
       "      <td>none</td>\n",
       "      <td>2020</td>\n",
       "      <td>2022</td>\n",
       "      <td>111</td>\n",
       "      <td>4144.0</td>\n",
       "      <td>True</td>\n",
       "      <td>2.0</td>\n",
       "    </tr>\n",
       "    <tr>\n",
       "      <th>7168</th>\n",
       "      <td>9999</td>\n",
       "      <td>tt9911196</td>\n",
       "      <td>The Marriage Escape</td>\n",
       "      <td>De beentjes van Sint-Hildegard</td>\n",
       "      <td>2020</td>\n",
       "      <td>2022</td>\n",
       "      <td>103</td>\n",
       "      <td>3242.0</td>\n",
       "      <td>True</td>\n",
       "      <td>2.0</td>\n",
       "    </tr>\n",
       "  </tbody>\n",
       "</table>\n",
       "<p>7169 rows × 10 columns</p>\n",
       "</div>"
      ],
      "text/plain": [
       "       num     tconst                                   primarytitle  \\\n",
       "0        4  tt0010600                                       The Doll   \n",
       "1        7  tt0011841                                  Way Down East   \n",
       "2        9  tt0012494                                        Déstiny   \n",
       "3       25  tt0015163                                  The Navigator   \n",
       "4       38  tt0016220                       The Phantom of the Opera   \n",
       "...    ...        ...                                            ...   \n",
       "7164  9966  tt9625664                                  Trauma Center   \n",
       "7165  9981  tt9741310                                          Slaxx   \n",
       "7166  9982  tt9742392                                        Kindred   \n",
       "7167  9996  tt9850386  The Bee Gees: How Can You Mend a Broken Heart   \n",
       "7168  9999  tt9911196                            The Marriage Escape   \n",
       "\n",
       "                       originaltitle startyear endyear runtimeminutes  \\\n",
       "0                          Die Puppe      1919    2022             66   \n",
       "1                      Way Down East      1920    2022            145   \n",
       "2                       Der müde Tod      1921    2022             97   \n",
       "3                      The Navigator      1924    2022             59   \n",
       "4           The Phantom of the Opera      1925    2022             93   \n",
       "...                              ...       ...     ...            ...   \n",
       "7164                            none      2019    2022             87   \n",
       "7165                           Slaxx      2020    2022             77   \n",
       "7166                         Kindred      2020    2022            101   \n",
       "7167                            none      2020    2022            111   \n",
       "7168  De beentjes van Sint-Hildegard      2020    2022            103   \n",
       "\n",
       "      numvotes  label  YearSinceRealease  \n",
       "0       1898.0   True              103.0  \n",
       "1       5376.0   True              102.0  \n",
       "2       5842.0   True              101.0  \n",
       "3       9652.0   True               98.0  \n",
       "4      17887.0   True               97.0  \n",
       "...        ...    ...                ...  \n",
       "7164   12951.0  False                3.0  \n",
       "7165    2464.0  False                2.0  \n",
       "7166    1719.0  False                2.0  \n",
       "7167    4144.0   True                2.0  \n",
       "7168    3242.0   True                2.0  \n",
       "\n",
       "[7169 rows x 10 columns]"
      ]
     },
     "execution_count": 291,
     "metadata": {},
     "output_type": "execute_result"
    }
   ],
   "source": [
    "pandas_train"
   ]
  },
  {
   "cell_type": "markdown",
   "id": "9fdd3798-fe0d-4995-8093-87cd3a42f52d",
   "metadata": {},
   "source": [
    "#### Additional data"
   ]
  },
  {
   "cell_type": "code",
   "execution_count": 196,
   "id": "4c617181-7e90-42d4-8441-dda7cfe836c2",
   "metadata": {},
   "outputs": [
    {
     "data": {
      "text/plain": [
       "<duckdb.DuckDBPyConnection at 0x55b8c8ecf0>"
      ]
     },
     "execution_count": 196,
     "metadata": {},
     "output_type": "execute_result"
    }
   ],
   "source": [
    "con.execute('''\n",
    "CREATE TABLE additional_data AS SELECT * FROM 'movies_info.csv';\n",
    "''')"
   ]
  },
  {
   "cell_type": "code",
   "execution_count": 272,
   "id": "4eefd84b-d478-408b-9c8a-d25c084aaab1",
   "metadata": {},
   "outputs": [
    {
     "data": {
      "text/html": [
       "<div>\n",
       "<style scoped>\n",
       "    .dataframe tbody tr th:only-of-type {\n",
       "        vertical-align: middle;\n",
       "    }\n",
       "\n",
       "    .dataframe tbody tr th {\n",
       "        vertical-align: top;\n",
       "    }\n",
       "\n",
       "    .dataframe thead th {\n",
       "        text-align: right;\n",
       "    }\n",
       "</style>\n",
       "<table border=\"1\" class=\"dataframe\">\n",
       "  <thead>\n",
       "    <tr style=\"text-align: right;\">\n",
       "      <th></th>\n",
       "      <th>imdb_id</th>\n",
       "      <th>adult</th>\n",
       "      <th>belongs_to_collection</th>\n",
       "      <th>budget</th>\n",
       "      <th>id</th>\n",
       "      <th>original_language</th>\n",
       "      <th>original_title</th>\n",
       "      <th>overview</th>\n",
       "      <th>popularity</th>\n",
       "      <th>production_companies</th>\n",
       "      <th>...</th>\n",
       "      <th>runtime</th>\n",
       "      <th>tagline</th>\n",
       "      <th>title</th>\n",
       "      <th>video</th>\n",
       "      <th>vote_average</th>\n",
       "      <th>vote_count</th>\n",
       "      <th>genre_list</th>\n",
       "      <th>production_list</th>\n",
       "      <th>production_countr_list</th>\n",
       "      <th>spoken_language_list</th>\n",
       "    </tr>\n",
       "  </thead>\n",
       "  <tbody>\n",
       "    <tr>\n",
       "      <th>0</th>\n",
       "      <td>tt0010600</td>\n",
       "      <td>False</td>\n",
       "      <td>NaN</td>\n",
       "      <td>0.0</td>\n",
       "      <td>48256.0</td>\n",
       "      <td>de</td>\n",
       "      <td>Die Puppe</td>\n",
       "      <td>The misadventures of an effete young man who m...</td>\n",
       "      <td>4.861</td>\n",
       "      <td>[{'id': 12950, 'logo_path': None, 'name': 'Pro...</td>\n",
       "      <td>...</td>\n",
       "      <td>66.0</td>\n",
       "      <td>NaN</td>\n",
       "      <td>The Doll</td>\n",
       "      <td>False</td>\n",
       "      <td>7.3</td>\n",
       "      <td>60.0</td>\n",
       "      <td>['Comedy', 'Fantasy']</td>\n",
       "      <td>['Projektions-AG Union (PAGU)']</td>\n",
       "      <td>['DE']</td>\n",
       "      <td>[]</td>\n",
       "    </tr>\n",
       "    <tr>\n",
       "      <th>1</th>\n",
       "      <td>tt0011841</td>\n",
       "      <td>False</td>\n",
       "      <td>NaN</td>\n",
       "      <td>0.0</td>\n",
       "      <td>31509.0</td>\n",
       "      <td>en</td>\n",
       "      <td>Way Down East</td>\n",
       "      <td>A naive country girl is tricked into a sham ma...</td>\n",
       "      <td>7.617</td>\n",
       "      <td>[{'id': 4759, 'logo_path': None, 'name': 'D.W....</td>\n",
       "      <td>...</td>\n",
       "      <td>145.0</td>\n",
       "      <td>A simple story for plain people.</td>\n",
       "      <td>Way Down East</td>\n",
       "      <td>False</td>\n",
       "      <td>7.0</td>\n",
       "      <td>70.0</td>\n",
       "      <td>['Drama', 'Action', 'Romance']</td>\n",
       "      <td>['D.W. Griffith Productions', 'United Artists']</td>\n",
       "      <td>['US']</td>\n",
       "      <td>[]</td>\n",
       "    </tr>\n",
       "    <tr>\n",
       "      <th>2</th>\n",
       "      <td>tt0012494</td>\n",
       "      <td>False</td>\n",
       "      <td>NaN</td>\n",
       "      <td>0.0</td>\n",
       "      <td>29267.0</td>\n",
       "      <td>de</td>\n",
       "      <td>Der müde Tod</td>\n",
       "      <td>As a young couple stops and rests in a small v...</td>\n",
       "      <td>7.593</td>\n",
       "      <td>[{'id': 6762, 'logo_path': None, 'name': 'Decl...</td>\n",
       "      <td>...</td>\n",
       "      <td>105.0</td>\n",
       "      <td>Love is Stronger Than Death</td>\n",
       "      <td>Destiny</td>\n",
       "      <td>False</td>\n",
       "      <td>7.5</td>\n",
       "      <td>107.0</td>\n",
       "      <td>['Drama', 'Fantasy', 'Thriller']</td>\n",
       "      <td>['Decla-Bioscop']</td>\n",
       "      <td>['DE']</td>\n",
       "      <td>['de']</td>\n",
       "    </tr>\n",
       "    <tr>\n",
       "      <th>3</th>\n",
       "      <td>tt0015163</td>\n",
       "      <td>False</td>\n",
       "      <td>NaN</td>\n",
       "      <td>0.0</td>\n",
       "      <td>32318.0</td>\n",
       "      <td>en</td>\n",
       "      <td>The Navigator</td>\n",
       "      <td>The wealthy and impulsive Rollo Treadway decid...</td>\n",
       "      <td>7.881</td>\n",
       "      <td>[{'id': 12190, 'logo_path': None, 'name': 'Bus...</td>\n",
       "      <td>...</td>\n",
       "      <td>65.0</td>\n",
       "      <td>Hurry! Hurry! Throw out the \"laff\" line!</td>\n",
       "      <td>The Navigator</td>\n",
       "      <td>False</td>\n",
       "      <td>7.3</td>\n",
       "      <td>152.0</td>\n",
       "      <td>['Action', 'Comedy', 'Romance']</td>\n",
       "      <td>['Buster Keaton Productions']</td>\n",
       "      <td>['US']</td>\n",
       "      <td>[]</td>\n",
       "    </tr>\n",
       "    <tr>\n",
       "      <th>4</th>\n",
       "      <td>tt0016220</td>\n",
       "      <td>False</td>\n",
       "      <td>NaN</td>\n",
       "      <td>0.0</td>\n",
       "      <td>964.0</td>\n",
       "      <td>en</td>\n",
       "      <td>The Phantom of the Opera</td>\n",
       "      <td>A grotesquely disfigured composer known as \"Th...</td>\n",
       "      <td>12.830</td>\n",
       "      <td>[{'id': 33, 'logo_path': '/8lvHyhjr8oUKOOy2dKX...</td>\n",
       "      <td>...</td>\n",
       "      <td>101.0</td>\n",
       "      <td>The greatest horror film of modern cinema!</td>\n",
       "      <td>The Phantom of the Opera</td>\n",
       "      <td>False</td>\n",
       "      <td>7.2</td>\n",
       "      <td>243.0</td>\n",
       "      <td>['Drama', 'Horror']</td>\n",
       "      <td>['Universal Pictures']</td>\n",
       "      <td>['US']</td>\n",
       "      <td>[]</td>\n",
       "    </tr>\n",
       "    <tr>\n",
       "      <th>...</th>\n",
       "      <td>...</td>\n",
       "      <td>...</td>\n",
       "      <td>...</td>\n",
       "      <td>...</td>\n",
       "      <td>...</td>\n",
       "      <td>...</td>\n",
       "      <td>...</td>\n",
       "      <td>...</td>\n",
       "      <td>...</td>\n",
       "      <td>...</td>\n",
       "      <td>...</td>\n",
       "      <td>...</td>\n",
       "      <td>...</td>\n",
       "      <td>...</td>\n",
       "      <td>...</td>\n",
       "      <td>...</td>\n",
       "      <td>...</td>\n",
       "      <td>...</td>\n",
       "      <td>...</td>\n",
       "      <td>...</td>\n",
       "      <td>...</td>\n",
       "    </tr>\n",
       "    <tr>\n",
       "      <th>7919</th>\n",
       "      <td>tt9625664</td>\n",
       "      <td>False</td>\n",
       "      <td>NaN</td>\n",
       "      <td>0.0</td>\n",
       "      <td>641790.0</td>\n",
       "      <td>en</td>\n",
       "      <td>Trauma Center</td>\n",
       "      <td>Lt. Wakes is a vengeful police detective deter...</td>\n",
       "      <td>21.290</td>\n",
       "      <td>[{'id': 121204, 'logo_path': None, 'name': 'Bo...</td>\n",
       "      <td>...</td>\n",
       "      <td>87.0</td>\n",
       "      <td>The enemy is closer than you think</td>\n",
       "      <td>Trauma Center</td>\n",
       "      <td>False</td>\n",
       "      <td>5.7</td>\n",
       "      <td>310.0</td>\n",
       "      <td>['Action', 'Thriller']</td>\n",
       "      <td>['BondIt Media Capital', 'Buffalo 8', 'Pimient...</td>\n",
       "      <td>['US']</td>\n",
       "      <td>['en', 'es']</td>\n",
       "    </tr>\n",
       "    <tr>\n",
       "      <th>7920</th>\n",
       "      <td>tt9741310</td>\n",
       "      <td>False</td>\n",
       "      <td>NaN</td>\n",
       "      <td>0.0</td>\n",
       "      <td>605133.0</td>\n",
       "      <td>en</td>\n",
       "      <td>Slaxx</td>\n",
       "      <td>When a possessed pair of jeans begins to kill ...</td>\n",
       "      <td>7.712</td>\n",
       "      <td>[{'id': 62055, 'logo_path': None, 'name': 'EMA...</td>\n",
       "      <td>...</td>\n",
       "      <td>77.0</td>\n",
       "      <td>An ass to die for.</td>\n",
       "      <td>Slaxx</td>\n",
       "      <td>False</td>\n",
       "      <td>5.8</td>\n",
       "      <td>98.0</td>\n",
       "      <td>['Comedy', 'Horror']</td>\n",
       "      <td>['EMAfilms', 'Entertainment Squad']</td>\n",
       "      <td>['CA']</td>\n",
       "      <td>['en', 'hi']</td>\n",
       "    </tr>\n",
       "    <tr>\n",
       "      <th>7921</th>\n",
       "      <td>tt9742392</td>\n",
       "      <td>False</td>\n",
       "      <td>NaN</td>\n",
       "      <td>0.0</td>\n",
       "      <td>717672.0</td>\n",
       "      <td>en</td>\n",
       "      <td>Kindred</td>\n",
       "      <td>When her boyfriend Ben suddenly dies in an acc...</td>\n",
       "      <td>5.826</td>\n",
       "      <td>[{'id': 137874, 'logo_path': None, 'name': 'Re...</td>\n",
       "      <td>...</td>\n",
       "      <td>101.0</td>\n",
       "      <td>Family is everything.</td>\n",
       "      <td>Kindred</td>\n",
       "      <td>False</td>\n",
       "      <td>5.9</td>\n",
       "      <td>11.0</td>\n",
       "      <td>['Drama', 'Mystery', 'Horror', 'Thriller']</td>\n",
       "      <td>['Reiver Pictures', 'IFC Midnight', 'Head Gear...</td>\n",
       "      <td>['GB']</td>\n",
       "      <td>['en']</td>\n",
       "    </tr>\n",
       "    <tr>\n",
       "      <th>7922</th>\n",
       "      <td>tt9850386</td>\n",
       "      <td>False</td>\n",
       "      <td>NaN</td>\n",
       "      <td>0.0</td>\n",
       "      <td>730009.0</td>\n",
       "      <td>en</td>\n",
       "      <td>The Bee Gees: How Can You Mend a Broken Heart</td>\n",
       "      <td>The story of the triumphs and hurdles of broth...</td>\n",
       "      <td>9.072</td>\n",
       "      <td>[{'id': 862, 'logo_path': '/udTjbqPmcTbfrihMuL...</td>\n",
       "      <td>...</td>\n",
       "      <td>111.0</td>\n",
       "      <td>NaN</td>\n",
       "      <td>The Bee Gees: How Can You Mend a Broken Heart</td>\n",
       "      <td>False</td>\n",
       "      <td>8.0</td>\n",
       "      <td>37.0</td>\n",
       "      <td>['Music', 'Documentary']</td>\n",
       "      <td>['The Kennedy/Marshall Company', 'White Horse ...</td>\n",
       "      <td>['US']</td>\n",
       "      <td>['en']</td>\n",
       "    </tr>\n",
       "    <tr>\n",
       "      <th>7923</th>\n",
       "      <td>tt9911196</td>\n",
       "      <td>False</td>\n",
       "      <td>NaN</td>\n",
       "      <td>0.0</td>\n",
       "      <td>591915.0</td>\n",
       "      <td>nl</td>\n",
       "      <td>De Beentjes van Sint-Hildegard</td>\n",
       "      <td>Jan has been married to Gedda for 35 years. Ge...</td>\n",
       "      <td>3.598</td>\n",
       "      <td>[{'id': 60652, 'logo_path': '/pNlPbnwBkKgZsc2y...</td>\n",
       "      <td>...</td>\n",
       "      <td>103.0</td>\n",
       "      <td>NaN</td>\n",
       "      <td>The Marriage Escape</td>\n",
       "      <td>False</td>\n",
       "      <td>8.0</td>\n",
       "      <td>23.0</td>\n",
       "      <td>['Comedy', 'Drama']</td>\n",
       "      <td>['Johan Nijenhuis &amp; Co', 'Omroep MAX']</td>\n",
       "      <td>['NL']</td>\n",
       "      <td>['nl']</td>\n",
       "    </tr>\n",
       "  </tbody>\n",
       "</table>\n",
       "<p>7924 rows × 22 columns</p>\n",
       "</div>"
      ],
      "text/plain": [
       "        imdb_id  adult belongs_to_collection  budget        id  \\\n",
       "0     tt0010600  False                   NaN     0.0   48256.0   \n",
       "1     tt0011841  False                   NaN     0.0   31509.0   \n",
       "2     tt0012494  False                   NaN     0.0   29267.0   \n",
       "3     tt0015163  False                   NaN     0.0   32318.0   \n",
       "4     tt0016220  False                   NaN     0.0     964.0   \n",
       "...         ...    ...                   ...     ...       ...   \n",
       "7919  tt9625664  False                   NaN     0.0  641790.0   \n",
       "7920  tt9741310  False                   NaN     0.0  605133.0   \n",
       "7921  tt9742392  False                   NaN     0.0  717672.0   \n",
       "7922  tt9850386  False                   NaN     0.0  730009.0   \n",
       "7923  tt9911196  False                   NaN     0.0  591915.0   \n",
       "\n",
       "     original_language                                 original_title  \\\n",
       "0                   de                                      Die Puppe   \n",
       "1                   en                                  Way Down East   \n",
       "2                   de                                   Der müde Tod   \n",
       "3                   en                                  The Navigator   \n",
       "4                   en                       The Phantom of the Opera   \n",
       "...                ...                                            ...   \n",
       "7919                en                                  Trauma Center   \n",
       "7920                en                                          Slaxx   \n",
       "7921                en                                        Kindred   \n",
       "7922                en  The Bee Gees: How Can You Mend a Broken Heart   \n",
       "7923                nl                 De Beentjes van Sint-Hildegard   \n",
       "\n",
       "                                               overview  popularity  \\\n",
       "0     The misadventures of an effete young man who m...       4.861   \n",
       "1     A naive country girl is tricked into a sham ma...       7.617   \n",
       "2     As a young couple stops and rests in a small v...       7.593   \n",
       "3     The wealthy and impulsive Rollo Treadway decid...       7.881   \n",
       "4     A grotesquely disfigured composer known as \"Th...      12.830   \n",
       "...                                                 ...         ...   \n",
       "7919  Lt. Wakes is a vengeful police detective deter...      21.290   \n",
       "7920  When a possessed pair of jeans begins to kill ...       7.712   \n",
       "7921  When her boyfriend Ben suddenly dies in an acc...       5.826   \n",
       "7922  The story of the triumphs and hurdles of broth...       9.072   \n",
       "7923  Jan has been married to Gedda for 35 years. Ge...       3.598   \n",
       "\n",
       "                                   production_companies  ... runtime  \\\n",
       "0     [{'id': 12950, 'logo_path': None, 'name': 'Pro...  ...    66.0   \n",
       "1     [{'id': 4759, 'logo_path': None, 'name': 'D.W....  ...   145.0   \n",
       "2     [{'id': 6762, 'logo_path': None, 'name': 'Decl...  ...   105.0   \n",
       "3     [{'id': 12190, 'logo_path': None, 'name': 'Bus...  ...    65.0   \n",
       "4     [{'id': 33, 'logo_path': '/8lvHyhjr8oUKOOy2dKX...  ...   101.0   \n",
       "...                                                 ...  ...     ...   \n",
       "7919  [{'id': 121204, 'logo_path': None, 'name': 'Bo...  ...    87.0   \n",
       "7920  [{'id': 62055, 'logo_path': None, 'name': 'EMA...  ...    77.0   \n",
       "7921  [{'id': 137874, 'logo_path': None, 'name': 'Re...  ...   101.0   \n",
       "7922  [{'id': 862, 'logo_path': '/udTjbqPmcTbfrihMuL...  ...   111.0   \n",
       "7923  [{'id': 60652, 'logo_path': '/pNlPbnwBkKgZsc2y...  ...   103.0   \n",
       "\n",
       "                                         tagline  \\\n",
       "0                                            NaN   \n",
       "1               A simple story for plain people.   \n",
       "2                    Love is Stronger Than Death   \n",
       "3       Hurry! Hurry! Throw out the \"laff\" line!   \n",
       "4     The greatest horror film of modern cinema!   \n",
       "...                                          ...   \n",
       "7919          The enemy is closer than you think   \n",
       "7920                          An ass to die for.   \n",
       "7921                       Family is everything.   \n",
       "7922                                         NaN   \n",
       "7923                                         NaN   \n",
       "\n",
       "                                              title  video vote_average  \\\n",
       "0                                          The Doll  False          7.3   \n",
       "1                                     Way Down East  False          7.0   \n",
       "2                                           Destiny  False          7.5   \n",
       "3                                     The Navigator  False          7.3   \n",
       "4                          The Phantom of the Opera  False          7.2   \n",
       "...                                             ...    ...          ...   \n",
       "7919                                  Trauma Center  False          5.7   \n",
       "7920                                          Slaxx  False          5.8   \n",
       "7921                                        Kindred  False          5.9   \n",
       "7922  The Bee Gees: How Can You Mend a Broken Heart  False          8.0   \n",
       "7923                            The Marriage Escape  False          8.0   \n",
       "\n",
       "      vote_count                                  genre_list  \\\n",
       "0           60.0                       ['Comedy', 'Fantasy']   \n",
       "1           70.0              ['Drama', 'Action', 'Romance']   \n",
       "2          107.0            ['Drama', 'Fantasy', 'Thriller']   \n",
       "3          152.0             ['Action', 'Comedy', 'Romance']   \n",
       "4          243.0                         ['Drama', 'Horror']   \n",
       "...          ...                                         ...   \n",
       "7919       310.0                      ['Action', 'Thriller']   \n",
       "7920        98.0                        ['Comedy', 'Horror']   \n",
       "7921        11.0  ['Drama', 'Mystery', 'Horror', 'Thriller']   \n",
       "7922        37.0                    ['Music', 'Documentary']   \n",
       "7923        23.0                         ['Comedy', 'Drama']   \n",
       "\n",
       "                                        production_list  \\\n",
       "0                       ['Projektions-AG Union (PAGU)']   \n",
       "1       ['D.W. Griffith Productions', 'United Artists']   \n",
       "2                                     ['Decla-Bioscop']   \n",
       "3                         ['Buster Keaton Productions']   \n",
       "4                                ['Universal Pictures']   \n",
       "...                                                 ...   \n",
       "7919  ['BondIt Media Capital', 'Buffalo 8', 'Pimient...   \n",
       "7920                ['EMAfilms', 'Entertainment Squad']   \n",
       "7921  ['Reiver Pictures', 'IFC Midnight', 'Head Gear...   \n",
       "7922  ['The Kennedy/Marshall Company', 'White Horse ...   \n",
       "7923             ['Johan Nijenhuis & Co', 'Omroep MAX']   \n",
       "\n",
       "     production_countr_list spoken_language_list  \n",
       "0                    ['DE']                   []  \n",
       "1                    ['US']                   []  \n",
       "2                    ['DE']               ['de']  \n",
       "3                    ['US']                   []  \n",
       "4                    ['US']                   []  \n",
       "...                     ...                  ...  \n",
       "7919                 ['US']         ['en', 'es']  \n",
       "7920                 ['CA']         ['en', 'hi']  \n",
       "7921                 ['GB']               ['en']  \n",
       "7922                 ['US']               ['en']  \n",
       "7923                 ['NL']               ['nl']  \n",
       "\n",
       "[7924 rows x 22 columns]"
      ]
     },
     "execution_count": 272,
     "metadata": {},
     "output_type": "execute_result"
    }
   ],
   "source": [
    "con.execute('''\n",
    "SELECT * FROM additional_data''').fetch_df()"
   ]
  },
  {
   "cell_type": "markdown",
   "id": "8eb0435b-8549-4ac2-baf5-d68c85347885",
   "metadata": {},
   "source": [
    "Has issues with some features of the table."
   ]
  },
  {
   "cell_type": "markdown",
   "id": "73a5c36c-e996-4e4f-befd-bdd6e486ac45",
   "metadata": {},
   "source": [
    "LISTS cannot be stored as a single value in relational databases!!!\n",
    "Find solution for this!"
   ]
  },
  {
   "cell_type": "code",
   "execution_count": 192,
   "id": "f88ed142-bd42-43aa-a76b-41e488989586",
   "metadata": {},
   "outputs": [
    {
     "ename": "TypeError",
     "evalue": "field tagline: Can not merge type <class 'pyspark.sql.types.DoubleType'> and <class 'pyspark.sql.types.StringType'>",
     "output_type": "error",
     "traceback": [
      "\u001b[0;31m---------------------------------------------------------------------------\u001b[0m",
      "\u001b[0;31mTypeError\u001b[0m                                 Traceback (most recent call last)",
      "Input \u001b[0;32mIn [192]\u001b[0m, in \u001b[0;36m<module>\u001b[0;34m\u001b[0m\n\u001b[0;32m----> 1\u001b[0m moredata_df\u001b[38;5;241m=\u001b[39m\u001b[43mspark\u001b[49m\u001b[38;5;241;43m.\u001b[39;49m\u001b[43mcreateDataFrame\u001b[49m\u001b[43m(\u001b[49m\u001b[43mcon\u001b[49m\u001b[38;5;241;43m.\u001b[39;49m\u001b[43mexecute\u001b[49m\u001b[43m(\u001b[49m\u001b[38;5;124;43m\"\u001b[39;49m\u001b[38;5;124;43mSELECT * FROM additional_data\u001b[39;49m\u001b[38;5;124;43m\"\u001b[39;49m\u001b[43m)\u001b[49m\u001b[38;5;241;43m.\u001b[39;49m\u001b[43mfetchdf\u001b[49m\u001b[43m(\u001b[49m\u001b[43m)\u001b[49m\u001b[43m)\u001b[49m\n",
      "File \u001b[0;32m/usr/local/spark/python/pyspark/sql/session.py:673\u001b[0m, in \u001b[0;36mSparkSession.createDataFrame\u001b[0;34m(self, data, schema, samplingRatio, verifySchema)\u001b[0m\n\u001b[1;32m    670\u001b[0m     has_pandas \u001b[38;5;241m=\u001b[39m \u001b[38;5;28;01mFalse\u001b[39;00m\n\u001b[1;32m    671\u001b[0m \u001b[38;5;28;01mif\u001b[39;00m has_pandas \u001b[38;5;129;01mand\u001b[39;00m \u001b[38;5;28misinstance\u001b[39m(data, pandas\u001b[38;5;241m.\u001b[39mDataFrame):\n\u001b[1;32m    672\u001b[0m     \u001b[38;5;66;03m# Create a DataFrame from pandas DataFrame.\u001b[39;00m\n\u001b[0;32m--> 673\u001b[0m     \u001b[38;5;28;01mreturn\u001b[39;00m \u001b[38;5;28;43msuper\u001b[39;49m\u001b[43m(\u001b[49m\u001b[43mSparkSession\u001b[49m\u001b[43m,\u001b[49m\u001b[43m \u001b[49m\u001b[38;5;28;43mself\u001b[39;49m\u001b[43m)\u001b[49m\u001b[38;5;241;43m.\u001b[39;49m\u001b[43mcreateDataFrame\u001b[49m\u001b[43m(\u001b[49m\n\u001b[1;32m    674\u001b[0m \u001b[43m        \u001b[49m\u001b[43mdata\u001b[49m\u001b[43m,\u001b[49m\u001b[43m \u001b[49m\u001b[43mschema\u001b[49m\u001b[43m,\u001b[49m\u001b[43m \u001b[49m\u001b[43msamplingRatio\u001b[49m\u001b[43m,\u001b[49m\u001b[43m \u001b[49m\u001b[43mverifySchema\u001b[49m\u001b[43m)\u001b[49m\n\u001b[1;32m    675\u001b[0m \u001b[38;5;28;01mreturn\u001b[39;00m \u001b[38;5;28mself\u001b[39m\u001b[38;5;241m.\u001b[39m_create_dataframe(data, schema, samplingRatio, verifySchema)\n",
      "File \u001b[0;32m/usr/local/spark/python/pyspark/sql/pandas/conversion.py:340\u001b[0m, in \u001b[0;36mSparkConversionMixin.createDataFrame\u001b[0;34m(self, data, schema, samplingRatio, verifySchema)\u001b[0m\n\u001b[1;32m    338\u001b[0m             \u001b[38;5;28;01mraise\u001b[39;00m\n\u001b[1;32m    339\u001b[0m data \u001b[38;5;241m=\u001b[39m \u001b[38;5;28mself\u001b[39m\u001b[38;5;241m.\u001b[39m_convert_from_pandas(data, schema, timezone)\n\u001b[0;32m--> 340\u001b[0m \u001b[38;5;28;01mreturn\u001b[39;00m \u001b[38;5;28;43mself\u001b[39;49m\u001b[38;5;241;43m.\u001b[39;49m\u001b[43m_create_dataframe\u001b[49m\u001b[43m(\u001b[49m\u001b[43mdata\u001b[49m\u001b[43m,\u001b[49m\u001b[43m \u001b[49m\u001b[43mschema\u001b[49m\u001b[43m,\u001b[49m\u001b[43m \u001b[49m\u001b[43msamplingRatio\u001b[49m\u001b[43m,\u001b[49m\u001b[43m \u001b[49m\u001b[43mverifySchema\u001b[49m\u001b[43m)\u001b[49m\n",
      "File \u001b[0;32m/usr/local/spark/python/pyspark/sql/session.py:700\u001b[0m, in \u001b[0;36mSparkSession._create_dataframe\u001b[0;34m(self, data, schema, samplingRatio, verifySchema)\u001b[0m\n\u001b[1;32m    698\u001b[0m     rdd, schema \u001b[38;5;241m=\u001b[39m \u001b[38;5;28mself\u001b[39m\u001b[38;5;241m.\u001b[39m_createFromRDD(data\u001b[38;5;241m.\u001b[39mmap(prepare), schema, samplingRatio)\n\u001b[1;32m    699\u001b[0m \u001b[38;5;28;01melse\u001b[39;00m:\n\u001b[0;32m--> 700\u001b[0m     rdd, schema \u001b[38;5;241m=\u001b[39m \u001b[38;5;28;43mself\u001b[39;49m\u001b[38;5;241;43m.\u001b[39;49m\u001b[43m_createFromLocal\u001b[49m\u001b[43m(\u001b[49m\u001b[38;5;28;43mmap\u001b[39;49m\u001b[43m(\u001b[49m\u001b[43mprepare\u001b[49m\u001b[43m,\u001b[49m\u001b[43m \u001b[49m\u001b[43mdata\u001b[49m\u001b[43m)\u001b[49m\u001b[43m,\u001b[49m\u001b[43m \u001b[49m\u001b[43mschema\u001b[49m\u001b[43m)\u001b[49m\n\u001b[1;32m    701\u001b[0m jrdd \u001b[38;5;241m=\u001b[39m \u001b[38;5;28mself\u001b[39m\u001b[38;5;241m.\u001b[39m_jvm\u001b[38;5;241m.\u001b[39mSerDeUtil\u001b[38;5;241m.\u001b[39mtoJavaArray(rdd\u001b[38;5;241m.\u001b[39m_to_java_object_rdd())\n\u001b[1;32m    702\u001b[0m jdf \u001b[38;5;241m=\u001b[39m \u001b[38;5;28mself\u001b[39m\u001b[38;5;241m.\u001b[39m_jsparkSession\u001b[38;5;241m.\u001b[39mapplySchemaToPythonRDD(jrdd\u001b[38;5;241m.\u001b[39mrdd(), schema\u001b[38;5;241m.\u001b[39mjson())\n",
      "File \u001b[0;32m/usr/local/spark/python/pyspark/sql/session.py:512\u001b[0m, in \u001b[0;36mSparkSession._createFromLocal\u001b[0;34m(self, data, schema)\u001b[0m\n\u001b[1;32m    509\u001b[0m     data \u001b[38;5;241m=\u001b[39m \u001b[38;5;28mlist\u001b[39m(data)\n\u001b[1;32m    511\u001b[0m \u001b[38;5;28;01mif\u001b[39;00m schema \u001b[38;5;129;01mis\u001b[39;00m \u001b[38;5;28;01mNone\u001b[39;00m \u001b[38;5;129;01mor\u001b[39;00m \u001b[38;5;28misinstance\u001b[39m(schema, (\u001b[38;5;28mlist\u001b[39m, \u001b[38;5;28mtuple\u001b[39m)):\n\u001b[0;32m--> 512\u001b[0m     struct \u001b[38;5;241m=\u001b[39m \u001b[38;5;28;43mself\u001b[39;49m\u001b[38;5;241;43m.\u001b[39;49m\u001b[43m_inferSchemaFromList\u001b[49m\u001b[43m(\u001b[49m\u001b[43mdata\u001b[49m\u001b[43m,\u001b[49m\u001b[43m \u001b[49m\u001b[43mnames\u001b[49m\u001b[38;5;241;43m=\u001b[39;49m\u001b[43mschema\u001b[49m\u001b[43m)\u001b[49m\n\u001b[1;32m    513\u001b[0m     converter \u001b[38;5;241m=\u001b[39m _create_converter(struct)\n\u001b[1;32m    514\u001b[0m     data \u001b[38;5;241m=\u001b[39m \u001b[38;5;28mmap\u001b[39m(converter, data)\n",
      "File \u001b[0;32m/usr/local/spark/python/pyspark/sql/session.py:439\u001b[0m, in \u001b[0;36mSparkSession._inferSchemaFromList\u001b[0;34m(self, data, names)\u001b[0m\n\u001b[1;32m    437\u001b[0m \u001b[38;5;28;01mif\u001b[39;00m \u001b[38;5;129;01mnot\u001b[39;00m data:\n\u001b[1;32m    438\u001b[0m     \u001b[38;5;28;01mraise\u001b[39;00m \u001b[38;5;167;01mValueError\u001b[39;00m(\u001b[38;5;124m\"\u001b[39m\u001b[38;5;124mcan not infer schema from empty dataset\u001b[39m\u001b[38;5;124m\"\u001b[39m)\n\u001b[0;32m--> 439\u001b[0m schema \u001b[38;5;241m=\u001b[39m \u001b[43mreduce\u001b[49m\u001b[43m(\u001b[49m\u001b[43m_merge_type\u001b[49m\u001b[43m,\u001b[49m\u001b[43m \u001b[49m\u001b[43m(\u001b[49m\u001b[43m_infer_schema\u001b[49m\u001b[43m(\u001b[49m\u001b[43mrow\u001b[49m\u001b[43m,\u001b[49m\u001b[43m \u001b[49m\u001b[43mnames\u001b[49m\u001b[43m)\u001b[49m\u001b[43m \u001b[49m\u001b[38;5;28;43;01mfor\u001b[39;49;00m\u001b[43m \u001b[49m\u001b[43mrow\u001b[49m\u001b[43m \u001b[49m\u001b[38;5;129;43;01min\u001b[39;49;00m\u001b[43m \u001b[49m\u001b[43mdata\u001b[49m\u001b[43m)\u001b[49m\u001b[43m)\u001b[49m\n\u001b[1;32m    440\u001b[0m \u001b[38;5;28;01mif\u001b[39;00m _has_nulltype(schema):\n\u001b[1;32m    441\u001b[0m     \u001b[38;5;28;01mraise\u001b[39;00m \u001b[38;5;167;01mValueError\u001b[39;00m(\u001b[38;5;124m\"\u001b[39m\u001b[38;5;124mSome of types cannot be determined after inferring\u001b[39m\u001b[38;5;124m\"\u001b[39m)\n",
      "File \u001b[0;32m/usr/local/spark/python/pyspark/sql/types.py:1109\u001b[0m, in \u001b[0;36m_merge_type\u001b[0;34m(a, b, name)\u001b[0m\n\u001b[1;32m   1107\u001b[0m \u001b[38;5;28;01mif\u001b[39;00m \u001b[38;5;28misinstance\u001b[39m(a, StructType):\n\u001b[1;32m   1108\u001b[0m     nfs \u001b[38;5;241m=\u001b[39m \u001b[38;5;28mdict\u001b[39m((f\u001b[38;5;241m.\u001b[39mname, f\u001b[38;5;241m.\u001b[39mdataType) \u001b[38;5;28;01mfor\u001b[39;00m f \u001b[38;5;129;01min\u001b[39;00m b\u001b[38;5;241m.\u001b[39mfields)\n\u001b[0;32m-> 1109\u001b[0m     fields \u001b[38;5;241m=\u001b[39m [StructField(f\u001b[38;5;241m.\u001b[39mname, _merge_type(f\u001b[38;5;241m.\u001b[39mdataType, nfs\u001b[38;5;241m.\u001b[39mget(f\u001b[38;5;241m.\u001b[39mname, NullType()),\n\u001b[1;32m   1110\u001b[0m                                               name\u001b[38;5;241m=\u001b[39mnew_name(f\u001b[38;5;241m.\u001b[39mname)))\n\u001b[1;32m   1111\u001b[0m               \u001b[38;5;28;01mfor\u001b[39;00m f \u001b[38;5;129;01min\u001b[39;00m a\u001b[38;5;241m.\u001b[39mfields]\n\u001b[1;32m   1112\u001b[0m     names \u001b[38;5;241m=\u001b[39m \u001b[38;5;28mset\u001b[39m([f\u001b[38;5;241m.\u001b[39mname \u001b[38;5;28;01mfor\u001b[39;00m f \u001b[38;5;129;01min\u001b[39;00m fields])\n\u001b[1;32m   1113\u001b[0m     \u001b[38;5;28;01mfor\u001b[39;00m n \u001b[38;5;129;01min\u001b[39;00m nfs:\n",
      "File \u001b[0;32m/usr/local/spark/python/pyspark/sql/types.py:1109\u001b[0m, in \u001b[0;36m<listcomp>\u001b[0;34m(.0)\u001b[0m\n\u001b[1;32m   1107\u001b[0m \u001b[38;5;28;01mif\u001b[39;00m \u001b[38;5;28misinstance\u001b[39m(a, StructType):\n\u001b[1;32m   1108\u001b[0m     nfs \u001b[38;5;241m=\u001b[39m \u001b[38;5;28mdict\u001b[39m((f\u001b[38;5;241m.\u001b[39mname, f\u001b[38;5;241m.\u001b[39mdataType) \u001b[38;5;28;01mfor\u001b[39;00m f \u001b[38;5;129;01min\u001b[39;00m b\u001b[38;5;241m.\u001b[39mfields)\n\u001b[0;32m-> 1109\u001b[0m     fields \u001b[38;5;241m=\u001b[39m [StructField(f\u001b[38;5;241m.\u001b[39mname, \u001b[43m_merge_type\u001b[49m\u001b[43m(\u001b[49m\u001b[43mf\u001b[49m\u001b[38;5;241;43m.\u001b[39;49m\u001b[43mdataType\u001b[49m\u001b[43m,\u001b[49m\u001b[43m \u001b[49m\u001b[43mnfs\u001b[49m\u001b[38;5;241;43m.\u001b[39;49m\u001b[43mget\u001b[49m\u001b[43m(\u001b[49m\u001b[43mf\u001b[49m\u001b[38;5;241;43m.\u001b[39;49m\u001b[43mname\u001b[49m\u001b[43m,\u001b[49m\u001b[43m \u001b[49m\u001b[43mNullType\u001b[49m\u001b[43m(\u001b[49m\u001b[43m)\u001b[49m\u001b[43m)\u001b[49m\u001b[43m,\u001b[49m\n\u001b[1;32m   1110\u001b[0m \u001b[43m                                              \u001b[49m\u001b[43mname\u001b[49m\u001b[38;5;241;43m=\u001b[39;49m\u001b[43mnew_name\u001b[49m\u001b[43m(\u001b[49m\u001b[43mf\u001b[49m\u001b[38;5;241;43m.\u001b[39;49m\u001b[43mname\u001b[49m\u001b[43m)\u001b[49m\u001b[43m)\u001b[49m)\n\u001b[1;32m   1111\u001b[0m               \u001b[38;5;28;01mfor\u001b[39;00m f \u001b[38;5;129;01min\u001b[39;00m a\u001b[38;5;241m.\u001b[39mfields]\n\u001b[1;32m   1112\u001b[0m     names \u001b[38;5;241m=\u001b[39m \u001b[38;5;28mset\u001b[39m([f\u001b[38;5;241m.\u001b[39mname \u001b[38;5;28;01mfor\u001b[39;00m f \u001b[38;5;129;01min\u001b[39;00m fields])\n\u001b[1;32m   1113\u001b[0m     \u001b[38;5;28;01mfor\u001b[39;00m n \u001b[38;5;129;01min\u001b[39;00m nfs:\n",
      "File \u001b[0;32m/usr/local/spark/python/pyspark/sql/types.py:1104\u001b[0m, in \u001b[0;36m_merge_type\u001b[0;34m(a, b, name)\u001b[0m\n\u001b[1;32m   1101\u001b[0m     \u001b[38;5;28;01mreturn\u001b[39;00m a\n\u001b[1;32m   1102\u001b[0m \u001b[38;5;28;01melif\u001b[39;00m \u001b[38;5;28mtype\u001b[39m(a) \u001b[38;5;129;01mis\u001b[39;00m \u001b[38;5;129;01mnot\u001b[39;00m \u001b[38;5;28mtype\u001b[39m(b):\n\u001b[1;32m   1103\u001b[0m     \u001b[38;5;66;03m# TODO: type cast (such as int -> long)\u001b[39;00m\n\u001b[0;32m-> 1104\u001b[0m     \u001b[38;5;28;01mraise\u001b[39;00m \u001b[38;5;167;01mTypeError\u001b[39;00m(new_msg(\u001b[38;5;124m\"\u001b[39m\u001b[38;5;124mCan not merge type \u001b[39m\u001b[38;5;132;01m%s\u001b[39;00m\u001b[38;5;124m and \u001b[39m\u001b[38;5;132;01m%s\u001b[39;00m\u001b[38;5;124m\"\u001b[39m \u001b[38;5;241m%\u001b[39m (\u001b[38;5;28mtype\u001b[39m(a), \u001b[38;5;28mtype\u001b[39m(b))))\n\u001b[1;32m   1106\u001b[0m \u001b[38;5;66;03m# same type\u001b[39;00m\n\u001b[1;32m   1107\u001b[0m \u001b[38;5;28;01mif\u001b[39;00m \u001b[38;5;28misinstance\u001b[39m(a, StructType):\n",
      "\u001b[0;31mTypeError\u001b[0m: field tagline: Can not merge type <class 'pyspark.sql.types.DoubleType'> and <class 'pyspark.sql.types.StringType'>"
     ]
    }
   ],
   "source": [
    "moredata_df=spark.createDataFrame(con.execute(\"SELECT * FROM additional_data\").fetchdf())"
   ]
  },
  {
   "cell_type": "code",
   "execution_count": null,
   "id": "4a089100-a7f6-4ef5-b64a-caf83395cf33",
   "metadata": {},
   "outputs": [],
   "source": [
    "output = df1.join(df2,['EMP_CODE'],how='inner').distinct()"
   ]
  },
  {
   "cell_type": "code",
   "execution_count": null,
   "id": "63903bdd-fef7-4d2c-82bd-fbd740d70672",
   "metadata": {},
   "outputs": [],
   "source": []
  },
  {
   "cell_type": "markdown",
   "id": "271e2094-2097-4f33-b925-4df3c44b2811",
   "metadata": {},
   "source": [
    "#### ML Model "
   ]
  },
  {
   "cell_type": "code",
   "execution_count": 292,
   "id": "a3b0c5a4-104e-464c-8e6e-7a0b2ce4980d",
   "metadata": {},
   "outputs": [
    {
     "data": {
      "text/html": [
       "<div>\n",
       "<style scoped>\n",
       "    .dataframe tbody tr th:only-of-type {\n",
       "        vertical-align: middle;\n",
       "    }\n",
       "\n",
       "    .dataframe tbody tr th {\n",
       "        vertical-align: top;\n",
       "    }\n",
       "\n",
       "    .dataframe thead th {\n",
       "        text-align: right;\n",
       "    }\n",
       "</style>\n",
       "<table border=\"1\" class=\"dataframe\">\n",
       "  <thead>\n",
       "    <tr style=\"text-align: right;\">\n",
       "      <th></th>\n",
       "      <th>num</th>\n",
       "      <th>tconst</th>\n",
       "      <th>primarytitle</th>\n",
       "      <th>originaltitle</th>\n",
       "      <th>startyear</th>\n",
       "      <th>endyear</th>\n",
       "      <th>runtimeminutes</th>\n",
       "      <th>numvotes</th>\n",
       "      <th>label</th>\n",
       "      <th>YearSinceRealease</th>\n",
       "    </tr>\n",
       "  </thead>\n",
       "  <tbody>\n",
       "    <tr>\n",
       "      <th>0</th>\n",
       "      <td>4</td>\n",
       "      <td>tt0010600</td>\n",
       "      <td>The Doll</td>\n",
       "      <td>Die Puppe</td>\n",
       "      <td>1919</td>\n",
       "      <td>2022</td>\n",
       "      <td>66</td>\n",
       "      <td>1898.0</td>\n",
       "      <td>True</td>\n",
       "      <td>103.0</td>\n",
       "    </tr>\n",
       "    <tr>\n",
       "      <th>1</th>\n",
       "      <td>7</td>\n",
       "      <td>tt0011841</td>\n",
       "      <td>Way Down East</td>\n",
       "      <td>Way Down East</td>\n",
       "      <td>1920</td>\n",
       "      <td>2022</td>\n",
       "      <td>145</td>\n",
       "      <td>5376.0</td>\n",
       "      <td>True</td>\n",
       "      <td>102.0</td>\n",
       "    </tr>\n",
       "    <tr>\n",
       "      <th>2</th>\n",
       "      <td>9</td>\n",
       "      <td>tt0012494</td>\n",
       "      <td>Déstiny</td>\n",
       "      <td>Der müde Tod</td>\n",
       "      <td>1921</td>\n",
       "      <td>2022</td>\n",
       "      <td>97</td>\n",
       "      <td>5842.0</td>\n",
       "      <td>True</td>\n",
       "      <td>101.0</td>\n",
       "    </tr>\n",
       "    <tr>\n",
       "      <th>3</th>\n",
       "      <td>25</td>\n",
       "      <td>tt0015163</td>\n",
       "      <td>The Navigator</td>\n",
       "      <td>The Navigator</td>\n",
       "      <td>1924</td>\n",
       "      <td>2022</td>\n",
       "      <td>59</td>\n",
       "      <td>9652.0</td>\n",
       "      <td>True</td>\n",
       "      <td>98.0</td>\n",
       "    </tr>\n",
       "    <tr>\n",
       "      <th>4</th>\n",
       "      <td>38</td>\n",
       "      <td>tt0016220</td>\n",
       "      <td>The Phantom of the Opera</td>\n",
       "      <td>The Phantom of the Opera</td>\n",
       "      <td>1925</td>\n",
       "      <td>2022</td>\n",
       "      <td>93</td>\n",
       "      <td>17887.0</td>\n",
       "      <td>True</td>\n",
       "      <td>97.0</td>\n",
       "    </tr>\n",
       "    <tr>\n",
       "      <th>...</th>\n",
       "      <td>...</td>\n",
       "      <td>...</td>\n",
       "      <td>...</td>\n",
       "      <td>...</td>\n",
       "      <td>...</td>\n",
       "      <td>...</td>\n",
       "      <td>...</td>\n",
       "      <td>...</td>\n",
       "      <td>...</td>\n",
       "      <td>...</td>\n",
       "    </tr>\n",
       "    <tr>\n",
       "      <th>7164</th>\n",
       "      <td>9966</td>\n",
       "      <td>tt9625664</td>\n",
       "      <td>Trauma Center</td>\n",
       "      <td>none</td>\n",
       "      <td>2019</td>\n",
       "      <td>2022</td>\n",
       "      <td>87</td>\n",
       "      <td>12951.0</td>\n",
       "      <td>False</td>\n",
       "      <td>3.0</td>\n",
       "    </tr>\n",
       "    <tr>\n",
       "      <th>7165</th>\n",
       "      <td>9981</td>\n",
       "      <td>tt9741310</td>\n",
       "      <td>Slaxx</td>\n",
       "      <td>Slaxx</td>\n",
       "      <td>2020</td>\n",
       "      <td>2022</td>\n",
       "      <td>77</td>\n",
       "      <td>2464.0</td>\n",
       "      <td>False</td>\n",
       "      <td>2.0</td>\n",
       "    </tr>\n",
       "    <tr>\n",
       "      <th>7166</th>\n",
       "      <td>9982</td>\n",
       "      <td>tt9742392</td>\n",
       "      <td>Kindred</td>\n",
       "      <td>Kindred</td>\n",
       "      <td>2020</td>\n",
       "      <td>2022</td>\n",
       "      <td>101</td>\n",
       "      <td>1719.0</td>\n",
       "      <td>False</td>\n",
       "      <td>2.0</td>\n",
       "    </tr>\n",
       "    <tr>\n",
       "      <th>7167</th>\n",
       "      <td>9996</td>\n",
       "      <td>tt9850386</td>\n",
       "      <td>The Bee Gees: How Can You Mend a Broken Heart</td>\n",
       "      <td>none</td>\n",
       "      <td>2020</td>\n",
       "      <td>2022</td>\n",
       "      <td>111</td>\n",
       "      <td>4144.0</td>\n",
       "      <td>True</td>\n",
       "      <td>2.0</td>\n",
       "    </tr>\n",
       "    <tr>\n",
       "      <th>7168</th>\n",
       "      <td>9999</td>\n",
       "      <td>tt9911196</td>\n",
       "      <td>The Marriage Escape</td>\n",
       "      <td>De beentjes van Sint-Hildegard</td>\n",
       "      <td>2020</td>\n",
       "      <td>2022</td>\n",
       "      <td>103</td>\n",
       "      <td>3242.0</td>\n",
       "      <td>True</td>\n",
       "      <td>2.0</td>\n",
       "    </tr>\n",
       "  </tbody>\n",
       "</table>\n",
       "<p>7169 rows × 10 columns</p>\n",
       "</div>"
      ],
      "text/plain": [
       "       num     tconst                                   primarytitle  \\\n",
       "0        4  tt0010600                                       The Doll   \n",
       "1        7  tt0011841                                  Way Down East   \n",
       "2        9  tt0012494                                        Déstiny   \n",
       "3       25  tt0015163                                  The Navigator   \n",
       "4       38  tt0016220                       The Phantom of the Opera   \n",
       "...    ...        ...                                            ...   \n",
       "7164  9966  tt9625664                                  Trauma Center   \n",
       "7165  9981  tt9741310                                          Slaxx   \n",
       "7166  9982  tt9742392                                        Kindred   \n",
       "7167  9996  tt9850386  The Bee Gees: How Can You Mend a Broken Heart   \n",
       "7168  9999  tt9911196                            The Marriage Escape   \n",
       "\n",
       "                       originaltitle startyear endyear runtimeminutes  \\\n",
       "0                          Die Puppe      1919    2022             66   \n",
       "1                      Way Down East      1920    2022            145   \n",
       "2                       Der müde Tod      1921    2022             97   \n",
       "3                      The Navigator      1924    2022             59   \n",
       "4           The Phantom of the Opera      1925    2022             93   \n",
       "...                              ...       ...     ...            ...   \n",
       "7164                            none      2019    2022             87   \n",
       "7165                           Slaxx      2020    2022             77   \n",
       "7166                         Kindred      2020    2022            101   \n",
       "7167                            none      2020    2022            111   \n",
       "7168  De beentjes van Sint-Hildegard      2020    2022            103   \n",
       "\n",
       "      numvotes  label  YearSinceRealease  \n",
       "0       1898.0   True              103.0  \n",
       "1       5376.0   True              102.0  \n",
       "2       5842.0   True              101.0  \n",
       "3       9652.0   True               98.0  \n",
       "4      17887.0   True               97.0  \n",
       "...        ...    ...                ...  \n",
       "7164   12951.0  False                3.0  \n",
       "7165    2464.0  False                2.0  \n",
       "7166    1719.0  False                2.0  \n",
       "7167    4144.0   True                2.0  \n",
       "7168    3242.0   True                2.0  \n",
       "\n",
       "[7169 rows x 10 columns]"
      ]
     },
     "execution_count": 292,
     "metadata": {},
     "output_type": "execute_result"
    }
   ],
   "source": [
    "pandas_train"
   ]
  },
  {
   "cell_type": "code",
   "execution_count": 213,
   "id": "598876ac-90d5-44ee-8947-14c90dfeb3c9",
   "metadata": {},
   "outputs": [
    {
     "name": "stdout",
     "output_type": "stream",
     "text": [
      "Collecting lightgbm\n",
      "  Downloading lightgbm-3.3.2-py3-none-manylinux2014_aarch64.whl (2.1 MB)\n",
      "     |████████████████████████████████| 2.1 MB 1.4 MB/s            \n",
      "\u001b[?25hRequirement already satisfied: numpy in /opt/conda/lib/python3.9/site-packages (from lightgbm) (1.21.5)\n",
      "Requirement already satisfied: scipy in /opt/conda/lib/python3.9/site-packages (from lightgbm) (1.7.3)\n",
      "Requirement already satisfied: wheel in /opt/conda/lib/python3.9/site-packages (from lightgbm) (0.37.1)\n",
      "Requirement already satisfied: scikit-learn!=0.22.0 in /opt/conda/lib/python3.9/site-packages (from lightgbm) (1.0.2)\n",
      "Requirement already satisfied: threadpoolctl>=2.0.0 in /opt/conda/lib/python3.9/site-packages (from scikit-learn!=0.22.0->lightgbm) (3.0.0)\n",
      "Requirement already satisfied: joblib>=0.11 in /opt/conda/lib/python3.9/site-packages (from scikit-learn!=0.22.0->lightgbm) (1.1.0)\n",
      "Installing collected packages: lightgbm\n",
      "Successfully installed lightgbm-3.3.2\n",
      "Note: you may need to restart the kernel to use updated packages.\n"
     ]
    }
   ],
   "source": [
    "pip install lightgbm"
   ]
  },
  {
   "cell_type": "code",
   "execution_count": 214,
   "id": "319d3235-8577-4bb5-88d0-5ca798cc3ed3",
   "metadata": {},
   "outputs": [],
   "source": [
    "import lightgbm as lgb\n",
    "from sklearn.model_selection import train_test_split\n",
    "from sklearn import metrics"
   ]
  },
  {
   "cell_type": "code",
   "execution_count": 293,
   "id": "8882f3e2-1daf-4c60-adc6-221fe3db4753",
   "metadata": {},
   "outputs": [
    {
     "ename": "ValueError",
     "evalue": "could not convert string to float: '\\\\N'",
     "output_type": "error",
     "traceback": [
      "\u001b[0;31m---------------------------------------------------------------------------\u001b[0m",
      "\u001b[0;31mValueError\u001b[0m                                Traceback (most recent call last)",
      "Input \u001b[0;32mIn [293]\u001b[0m, in \u001b[0;36m<module>\u001b[0;34m\u001b[0m\n\u001b[1;32m      1\u001b[0m \u001b[38;5;66;03m# To define the input and output feature\u001b[39;00m\n\u001b[1;32m      2\u001b[0m x \u001b[38;5;241m=\u001b[39m pandas_train\u001b[38;5;241m.\u001b[39mdrop([\u001b[38;5;124m'\u001b[39m\u001b[38;5;124mnum\u001b[39m\u001b[38;5;124m'\u001b[39m,\u001b[38;5;124m'\u001b[39m\u001b[38;5;124mtconst\u001b[39m\u001b[38;5;124m'\u001b[39m,\u001b[38;5;124m'\u001b[39m\u001b[38;5;124mprimarytitle\u001b[39m\u001b[38;5;124m'\u001b[39m,\u001b[38;5;124m'\u001b[39m\u001b[38;5;124moriginaltitle\u001b[39m\u001b[38;5;124m'\u001b[39m, \u001b[38;5;124m'\u001b[39m\u001b[38;5;124mendyear\u001b[39m\u001b[38;5;124m'\u001b[39m,],axis\u001b[38;5;241m=\u001b[39m\u001b[38;5;241m1\u001b[39m)\n\u001b[0;32m----> 3\u001b[0m x[\u001b[38;5;124m'\u001b[39m\u001b[38;5;124mruntimeminutes\u001b[39m\u001b[38;5;124m'\u001b[39m] \u001b[38;5;241m=\u001b[39m \u001b[43mx\u001b[49m\u001b[43m[\u001b[49m\u001b[38;5;124;43m'\u001b[39;49m\u001b[38;5;124;43mruntimeminutes\u001b[39;49m\u001b[38;5;124;43m'\u001b[39;49m\u001b[43m]\u001b[49m\u001b[38;5;241;43m.\u001b[39;49m\u001b[43mastype\u001b[49m\u001b[43m(\u001b[49m\u001b[38;5;28;43mfloat\u001b[39;49m\u001b[43m)\u001b[49m\n\u001b[1;32m      4\u001b[0m y \u001b[38;5;241m=\u001b[39m pandas_train[\u001b[38;5;124m'\u001b[39m\u001b[38;5;124mlabel\u001b[39m\u001b[38;5;124m'\u001b[39m]\n\u001b[1;32m      5\u001b[0m \u001b[38;5;66;03m# train and test split\u001b[39;00m\n",
      "File \u001b[0;32m/opt/conda/lib/python3.9/site-packages/pandas/core/generic.py:5920\u001b[0m, in \u001b[0;36mNDFrame.astype\u001b[0;34m(self, dtype, copy, errors)\u001b[0m\n\u001b[1;32m   5913\u001b[0m     results \u001b[38;5;241m=\u001b[39m [\n\u001b[1;32m   5914\u001b[0m         \u001b[38;5;28mself\u001b[39m\u001b[38;5;241m.\u001b[39miloc[:, i]\u001b[38;5;241m.\u001b[39mastype(dtype, copy\u001b[38;5;241m=\u001b[39mcopy)\n\u001b[1;32m   5915\u001b[0m         \u001b[38;5;28;01mfor\u001b[39;00m i \u001b[38;5;129;01min\u001b[39;00m \u001b[38;5;28mrange\u001b[39m(\u001b[38;5;28mlen\u001b[39m(\u001b[38;5;28mself\u001b[39m\u001b[38;5;241m.\u001b[39mcolumns))\n\u001b[1;32m   5916\u001b[0m     ]\n\u001b[1;32m   5918\u001b[0m \u001b[38;5;28;01melse\u001b[39;00m:\n\u001b[1;32m   5919\u001b[0m     \u001b[38;5;66;03m# else, only a single dtype is given\u001b[39;00m\n\u001b[0;32m-> 5920\u001b[0m     new_data \u001b[38;5;241m=\u001b[39m \u001b[38;5;28;43mself\u001b[39;49m\u001b[38;5;241;43m.\u001b[39;49m\u001b[43m_mgr\u001b[49m\u001b[38;5;241;43m.\u001b[39;49m\u001b[43mastype\u001b[49m\u001b[43m(\u001b[49m\u001b[43mdtype\u001b[49m\u001b[38;5;241;43m=\u001b[39;49m\u001b[43mdtype\u001b[49m\u001b[43m,\u001b[49m\u001b[43m \u001b[49m\u001b[43mcopy\u001b[49m\u001b[38;5;241;43m=\u001b[39;49m\u001b[43mcopy\u001b[49m\u001b[43m,\u001b[49m\u001b[43m \u001b[49m\u001b[43merrors\u001b[49m\u001b[38;5;241;43m=\u001b[39;49m\u001b[43merrors\u001b[49m\u001b[43m)\u001b[49m\n\u001b[1;32m   5921\u001b[0m     \u001b[38;5;28;01mreturn\u001b[39;00m \u001b[38;5;28mself\u001b[39m\u001b[38;5;241m.\u001b[39m_constructor(new_data)\u001b[38;5;241m.\u001b[39m__finalize__(\u001b[38;5;28mself\u001b[39m, method\u001b[38;5;241m=\u001b[39m\u001b[38;5;124m\"\u001b[39m\u001b[38;5;124mastype\u001b[39m\u001b[38;5;124m\"\u001b[39m)\n\u001b[1;32m   5923\u001b[0m \u001b[38;5;66;03m# GH 33113: handle empty frame or series\u001b[39;00m\n",
      "File \u001b[0;32m/opt/conda/lib/python3.9/site-packages/pandas/core/internals/managers.py:419\u001b[0m, in \u001b[0;36mBaseBlockManager.astype\u001b[0;34m(self, dtype, copy, errors)\u001b[0m\n\u001b[1;32m    418\u001b[0m \u001b[38;5;28;01mdef\u001b[39;00m \u001b[38;5;21mastype\u001b[39m(\u001b[38;5;28mself\u001b[39m: T, dtype, copy: \u001b[38;5;28mbool\u001b[39m \u001b[38;5;241m=\u001b[39m \u001b[38;5;28;01mFalse\u001b[39;00m, errors: \u001b[38;5;28mstr\u001b[39m \u001b[38;5;241m=\u001b[39m \u001b[38;5;124m\"\u001b[39m\u001b[38;5;124mraise\u001b[39m\u001b[38;5;124m\"\u001b[39m) \u001b[38;5;241m-\u001b[39m\u001b[38;5;241m>\u001b[39m T:\n\u001b[0;32m--> 419\u001b[0m     \u001b[38;5;28;01mreturn\u001b[39;00m \u001b[38;5;28;43mself\u001b[39;49m\u001b[38;5;241;43m.\u001b[39;49m\u001b[43mapply\u001b[49m\u001b[43m(\u001b[49m\u001b[38;5;124;43m\"\u001b[39;49m\u001b[38;5;124;43mastype\u001b[39;49m\u001b[38;5;124;43m\"\u001b[39;49m\u001b[43m,\u001b[49m\u001b[43m \u001b[49m\u001b[43mdtype\u001b[49m\u001b[38;5;241;43m=\u001b[39;49m\u001b[43mdtype\u001b[49m\u001b[43m,\u001b[49m\u001b[43m \u001b[49m\u001b[43mcopy\u001b[49m\u001b[38;5;241;43m=\u001b[39;49m\u001b[43mcopy\u001b[49m\u001b[43m,\u001b[49m\u001b[43m \u001b[49m\u001b[43merrors\u001b[49m\u001b[38;5;241;43m=\u001b[39;49m\u001b[43merrors\u001b[49m\u001b[43m)\u001b[49m\n",
      "File \u001b[0;32m/opt/conda/lib/python3.9/site-packages/pandas/core/internals/managers.py:304\u001b[0m, in \u001b[0;36mBaseBlockManager.apply\u001b[0;34m(self, f, align_keys, ignore_failures, **kwargs)\u001b[0m\n\u001b[1;32m    302\u001b[0m         applied \u001b[38;5;241m=\u001b[39m b\u001b[38;5;241m.\u001b[39mapply(f, \u001b[38;5;241m*\u001b[39m\u001b[38;5;241m*\u001b[39mkwargs)\n\u001b[1;32m    303\u001b[0m     \u001b[38;5;28;01melse\u001b[39;00m:\n\u001b[0;32m--> 304\u001b[0m         applied \u001b[38;5;241m=\u001b[39m \u001b[38;5;28;43mgetattr\u001b[39;49m\u001b[43m(\u001b[49m\u001b[43mb\u001b[49m\u001b[43m,\u001b[49m\u001b[43m \u001b[49m\u001b[43mf\u001b[49m\u001b[43m)\u001b[49m\u001b[43m(\u001b[49m\u001b[38;5;241;43m*\u001b[39;49m\u001b[38;5;241;43m*\u001b[39;49m\u001b[43mkwargs\u001b[49m\u001b[43m)\u001b[49m\n\u001b[1;32m    305\u001b[0m \u001b[38;5;28;01mexcept\u001b[39;00m (\u001b[38;5;167;01mTypeError\u001b[39;00m, \u001b[38;5;167;01mNotImplementedError\u001b[39;00m):\n\u001b[1;32m    306\u001b[0m     \u001b[38;5;28;01mif\u001b[39;00m \u001b[38;5;129;01mnot\u001b[39;00m ignore_failures:\n",
      "File \u001b[0;32m/opt/conda/lib/python3.9/site-packages/pandas/core/internals/blocks.py:582\u001b[0m, in \u001b[0;36mBlock.astype\u001b[0;34m(self, dtype, copy, errors)\u001b[0m\n\u001b[1;32m    564\u001b[0m \u001b[38;5;124;03m\"\"\"\u001b[39;00m\n\u001b[1;32m    565\u001b[0m \u001b[38;5;124;03mCoerce to the new dtype.\u001b[39;00m\n\u001b[1;32m    566\u001b[0m \n\u001b[0;32m   (...)\u001b[0m\n\u001b[1;32m    578\u001b[0m \u001b[38;5;124;03mBlock\u001b[39;00m\n\u001b[1;32m    579\u001b[0m \u001b[38;5;124;03m\"\"\"\u001b[39;00m\n\u001b[1;32m    580\u001b[0m values \u001b[38;5;241m=\u001b[39m \u001b[38;5;28mself\u001b[39m\u001b[38;5;241m.\u001b[39mvalues\n\u001b[0;32m--> 582\u001b[0m new_values \u001b[38;5;241m=\u001b[39m \u001b[43mastype_array_safe\u001b[49m\u001b[43m(\u001b[49m\u001b[43mvalues\u001b[49m\u001b[43m,\u001b[49m\u001b[43m \u001b[49m\u001b[43mdtype\u001b[49m\u001b[43m,\u001b[49m\u001b[43m \u001b[49m\u001b[43mcopy\u001b[49m\u001b[38;5;241;43m=\u001b[39;49m\u001b[43mcopy\u001b[49m\u001b[43m,\u001b[49m\u001b[43m \u001b[49m\u001b[43merrors\u001b[49m\u001b[38;5;241;43m=\u001b[39;49m\u001b[43merrors\u001b[49m\u001b[43m)\u001b[49m\n\u001b[1;32m    584\u001b[0m new_values \u001b[38;5;241m=\u001b[39m maybe_coerce_values(new_values)\n\u001b[1;32m    585\u001b[0m newb \u001b[38;5;241m=\u001b[39m \u001b[38;5;28mself\u001b[39m\u001b[38;5;241m.\u001b[39mmake_block(new_values)\n",
      "File \u001b[0;32m/opt/conda/lib/python3.9/site-packages/pandas/core/dtypes/cast.py:1292\u001b[0m, in \u001b[0;36mastype_array_safe\u001b[0;34m(values, dtype, copy, errors)\u001b[0m\n\u001b[1;32m   1289\u001b[0m     dtype \u001b[38;5;241m=\u001b[39m dtype\u001b[38;5;241m.\u001b[39mnumpy_dtype\n\u001b[1;32m   1291\u001b[0m \u001b[38;5;28;01mtry\u001b[39;00m:\n\u001b[0;32m-> 1292\u001b[0m     new_values \u001b[38;5;241m=\u001b[39m \u001b[43mastype_array\u001b[49m\u001b[43m(\u001b[49m\u001b[43mvalues\u001b[49m\u001b[43m,\u001b[49m\u001b[43m \u001b[49m\u001b[43mdtype\u001b[49m\u001b[43m,\u001b[49m\u001b[43m \u001b[49m\u001b[43mcopy\u001b[49m\u001b[38;5;241;43m=\u001b[39;49m\u001b[43mcopy\u001b[49m\u001b[43m)\u001b[49m\n\u001b[1;32m   1293\u001b[0m \u001b[38;5;28;01mexcept\u001b[39;00m (\u001b[38;5;167;01mValueError\u001b[39;00m, \u001b[38;5;167;01mTypeError\u001b[39;00m):\n\u001b[1;32m   1294\u001b[0m     \u001b[38;5;66;03m# e.g. astype_nansafe can fail on object-dtype of strings\u001b[39;00m\n\u001b[1;32m   1295\u001b[0m     \u001b[38;5;66;03m#  trying to convert to float\u001b[39;00m\n\u001b[1;32m   1296\u001b[0m     \u001b[38;5;28;01mif\u001b[39;00m errors \u001b[38;5;241m==\u001b[39m \u001b[38;5;124m\"\u001b[39m\u001b[38;5;124mignore\u001b[39m\u001b[38;5;124m\"\u001b[39m:\n",
      "File \u001b[0;32m/opt/conda/lib/python3.9/site-packages/pandas/core/dtypes/cast.py:1237\u001b[0m, in \u001b[0;36mastype_array\u001b[0;34m(values, dtype, copy)\u001b[0m\n\u001b[1;32m   1234\u001b[0m     values \u001b[38;5;241m=\u001b[39m values\u001b[38;5;241m.\u001b[39mastype(dtype, copy\u001b[38;5;241m=\u001b[39mcopy)\n\u001b[1;32m   1236\u001b[0m \u001b[38;5;28;01melse\u001b[39;00m:\n\u001b[0;32m-> 1237\u001b[0m     values \u001b[38;5;241m=\u001b[39m \u001b[43mastype_nansafe\u001b[49m\u001b[43m(\u001b[49m\u001b[43mvalues\u001b[49m\u001b[43m,\u001b[49m\u001b[43m \u001b[49m\u001b[43mdtype\u001b[49m\u001b[43m,\u001b[49m\u001b[43m \u001b[49m\u001b[43mcopy\u001b[49m\u001b[38;5;241;43m=\u001b[39;49m\u001b[43mcopy\u001b[49m\u001b[43m)\u001b[49m\n\u001b[1;32m   1239\u001b[0m \u001b[38;5;66;03m# in pandas we don't store numpy str dtypes, so convert to object\u001b[39;00m\n\u001b[1;32m   1240\u001b[0m \u001b[38;5;28;01mif\u001b[39;00m \u001b[38;5;28misinstance\u001b[39m(dtype, np\u001b[38;5;241m.\u001b[39mdtype) \u001b[38;5;129;01mand\u001b[39;00m \u001b[38;5;28missubclass\u001b[39m(values\u001b[38;5;241m.\u001b[39mdtype\u001b[38;5;241m.\u001b[39mtype, \u001b[38;5;28mstr\u001b[39m):\n",
      "File \u001b[0;32m/opt/conda/lib/python3.9/site-packages/pandas/core/dtypes/cast.py:1181\u001b[0m, in \u001b[0;36mastype_nansafe\u001b[0;34m(arr, dtype, copy, skipna)\u001b[0m\n\u001b[1;32m   1177\u001b[0m     \u001b[38;5;28;01mraise\u001b[39;00m \u001b[38;5;167;01mValueError\u001b[39;00m(msg)\n\u001b[1;32m   1179\u001b[0m \u001b[38;5;28;01mif\u001b[39;00m copy \u001b[38;5;129;01mor\u001b[39;00m is_object_dtype(arr\u001b[38;5;241m.\u001b[39mdtype) \u001b[38;5;129;01mor\u001b[39;00m is_object_dtype(dtype):\n\u001b[1;32m   1180\u001b[0m     \u001b[38;5;66;03m# Explicit copy, or required since NumPy can't view from / to object.\u001b[39;00m\n\u001b[0;32m-> 1181\u001b[0m     \u001b[38;5;28;01mreturn\u001b[39;00m \u001b[43marr\u001b[49m\u001b[38;5;241;43m.\u001b[39;49m\u001b[43mastype\u001b[49m\u001b[43m(\u001b[49m\u001b[43mdtype\u001b[49m\u001b[43m,\u001b[49m\u001b[43m \u001b[49m\u001b[43mcopy\u001b[49m\u001b[38;5;241;43m=\u001b[39;49m\u001b[38;5;28;43;01mTrue\u001b[39;49;00m\u001b[43m)\u001b[49m\n\u001b[1;32m   1183\u001b[0m \u001b[38;5;28;01mreturn\u001b[39;00m arr\u001b[38;5;241m.\u001b[39mastype(dtype, copy\u001b[38;5;241m=\u001b[39mcopy)\n",
      "\u001b[0;31mValueError\u001b[0m: could not convert string to float: '\\\\N'"
     ]
    }
   ],
   "source": [
    "# To define the input and output feature\n",
    "x = pandas_train.drop(['num','tconst','primarytitle','originaltitle', 'endyear',],axis=1)\n",
    "x['runtimeminutes'] = x['runtimeminutes'].astype(float)\n",
    "y = pandas_train['label']\n",
    "# train and test split\n",
    "x_train,x_test,y_train,y_test = train_test_split(x,y,test_size=0.33,random_state=42)"
   ]
  },
  {
   "cell_type": "code",
   "execution_count": 217,
   "id": "ebb79902-8f79-44e2-ba07-ce99777f14da",
   "metadata": {},
   "outputs": [
    {
     "name": "stderr",
     "output_type": "stream",
     "text": [
      "/opt/conda/lib/python3.9/site-packages/lightgbm/sklearn.py:736: UserWarning: 'verbose' argument is deprecated and will be removed in a future release of LightGBM. Pass 'log_evaluation()' callback via 'callbacks' argument instead.\n",
      "  _log_warning(\"'verbose' argument is deprecated and will be removed in a future release of LightGBM. \"\n"
     ]
    },
    {
     "ename": "ValueError",
     "evalue": "DataFrame.dtypes for data must be int, float or bool.\nDid not expect the data types in the following fields: tconst, primarytitle, startyear, runtimeminutes",
     "output_type": "error",
     "traceback": [
      "\u001b[0;31m---------------------------------------------------------------------------\u001b[0m",
      "\u001b[0;31mValueError\u001b[0m                                Traceback (most recent call last)",
      "Input \u001b[0;32mIn [217]\u001b[0m, in \u001b[0;36m<module>\u001b[0;34m\u001b[0m\n\u001b[1;32m      1\u001b[0m model \u001b[38;5;241m=\u001b[39m lgb\u001b[38;5;241m.\u001b[39mLGBMClassifier(learning_rate\u001b[38;5;241m=\u001b[39m\u001b[38;5;241m0.09\u001b[39m,max_depth\u001b[38;5;241m=\u001b[39m\u001b[38;5;241m-\u001b[39m\u001b[38;5;241m5\u001b[39m,random_state\u001b[38;5;241m=\u001b[39m\u001b[38;5;241m42\u001b[39m)\n\u001b[0;32m----> 2\u001b[0m \u001b[43mmodel\u001b[49m\u001b[38;5;241;43m.\u001b[39;49m\u001b[43mfit\u001b[49m\u001b[43m(\u001b[49m\u001b[43mx_train\u001b[49m\u001b[43m,\u001b[49m\u001b[43my_train\u001b[49m\u001b[43m,\u001b[49m\u001b[43meval_set\u001b[49m\u001b[38;5;241;43m=\u001b[39;49m\u001b[43m[\u001b[49m\u001b[43m(\u001b[49m\u001b[43mx_test\u001b[49m\u001b[43m,\u001b[49m\u001b[43my_test\u001b[49m\u001b[43m)\u001b[49m\u001b[43m,\u001b[49m\u001b[43m(\u001b[49m\u001b[43mx_train\u001b[49m\u001b[43m,\u001b[49m\u001b[43my_train\u001b[49m\u001b[43m)\u001b[49m\u001b[43m]\u001b[49m\u001b[43m,\u001b[49m\n\u001b[1;32m      3\u001b[0m \u001b[43m          \u001b[49m\u001b[43mverbose\u001b[49m\u001b[38;5;241;43m=\u001b[39;49m\u001b[38;5;241;43m20\u001b[39;49m\u001b[43m,\u001b[49m\u001b[43meval_metric\u001b[49m\u001b[38;5;241;43m=\u001b[39;49m\u001b[38;5;124;43m'\u001b[39;49m\u001b[38;5;124;43mlogloss\u001b[39;49m\u001b[38;5;124;43m'\u001b[39;49m\u001b[43m)\u001b[49m\n",
      "File \u001b[0;32m/opt/conda/lib/python3.9/site-packages/lightgbm/sklearn.py:967\u001b[0m, in \u001b[0;36mLGBMClassifier.fit\u001b[0;34m(self, X, y, sample_weight, init_score, eval_set, eval_names, eval_sample_weight, eval_class_weight, eval_init_score, eval_metric, early_stopping_rounds, verbose, feature_name, categorical_feature, callbacks, init_model)\u001b[0m\n\u001b[1;32m    964\u001b[0m         \u001b[38;5;28;01melse\u001b[39;00m:\n\u001b[1;32m    965\u001b[0m             valid_sets[i] \u001b[38;5;241m=\u001b[39m (valid_x, \u001b[38;5;28mself\u001b[39m\u001b[38;5;241m.\u001b[39m_le\u001b[38;5;241m.\u001b[39mtransform(valid_y))\n\u001b[0;32m--> 967\u001b[0m \u001b[38;5;28;43msuper\u001b[39;49m\u001b[43m(\u001b[49m\u001b[43m)\u001b[49m\u001b[38;5;241;43m.\u001b[39;49m\u001b[43mfit\u001b[49m\u001b[43m(\u001b[49m\u001b[43mX\u001b[49m\u001b[43m,\u001b[49m\u001b[43m \u001b[49m\u001b[43m_y\u001b[49m\u001b[43m,\u001b[49m\u001b[43m \u001b[49m\u001b[43msample_weight\u001b[49m\u001b[38;5;241;43m=\u001b[39;49m\u001b[43msample_weight\u001b[49m\u001b[43m,\u001b[49m\u001b[43m \u001b[49m\u001b[43minit_score\u001b[49m\u001b[38;5;241;43m=\u001b[39;49m\u001b[43minit_score\u001b[49m\u001b[43m,\u001b[49m\u001b[43m \u001b[49m\u001b[43meval_set\u001b[49m\u001b[38;5;241;43m=\u001b[39;49m\u001b[43mvalid_sets\u001b[49m\u001b[43m,\u001b[49m\n\u001b[1;32m    968\u001b[0m \u001b[43m            \u001b[49m\u001b[43meval_names\u001b[49m\u001b[38;5;241;43m=\u001b[39;49m\u001b[43meval_names\u001b[49m\u001b[43m,\u001b[49m\u001b[43m \u001b[49m\u001b[43meval_sample_weight\u001b[49m\u001b[38;5;241;43m=\u001b[39;49m\u001b[43meval_sample_weight\u001b[49m\u001b[43m,\u001b[49m\n\u001b[1;32m    969\u001b[0m \u001b[43m            \u001b[49m\u001b[43meval_class_weight\u001b[49m\u001b[38;5;241;43m=\u001b[39;49m\u001b[43meval_class_weight\u001b[49m\u001b[43m,\u001b[49m\u001b[43m \u001b[49m\u001b[43meval_init_score\u001b[49m\u001b[38;5;241;43m=\u001b[39;49m\u001b[43meval_init_score\u001b[49m\u001b[43m,\u001b[49m\n\u001b[1;32m    970\u001b[0m \u001b[43m            \u001b[49m\u001b[43meval_metric\u001b[49m\u001b[38;5;241;43m=\u001b[39;49m\u001b[43meval_metric\u001b[49m\u001b[43m,\u001b[49m\u001b[43m \u001b[49m\u001b[43mearly_stopping_rounds\u001b[49m\u001b[38;5;241;43m=\u001b[39;49m\u001b[43mearly_stopping_rounds\u001b[49m\u001b[43m,\u001b[49m\n\u001b[1;32m    971\u001b[0m \u001b[43m            \u001b[49m\u001b[43mverbose\u001b[49m\u001b[38;5;241;43m=\u001b[39;49m\u001b[43mverbose\u001b[49m\u001b[43m,\u001b[49m\u001b[43m \u001b[49m\u001b[43mfeature_name\u001b[49m\u001b[38;5;241;43m=\u001b[39;49m\u001b[43mfeature_name\u001b[49m\u001b[43m,\u001b[49m\u001b[43m \u001b[49m\u001b[43mcategorical_feature\u001b[49m\u001b[38;5;241;43m=\u001b[39;49m\u001b[43mcategorical_feature\u001b[49m\u001b[43m,\u001b[49m\n\u001b[1;32m    972\u001b[0m \u001b[43m            \u001b[49m\u001b[43mcallbacks\u001b[49m\u001b[38;5;241;43m=\u001b[39;49m\u001b[43mcallbacks\u001b[49m\u001b[43m,\u001b[49m\u001b[43m \u001b[49m\u001b[43minit_model\u001b[49m\u001b[38;5;241;43m=\u001b[39;49m\u001b[43minit_model\u001b[49m\u001b[43m)\u001b[49m\n\u001b[1;32m    973\u001b[0m \u001b[38;5;28;01mreturn\u001b[39;00m \u001b[38;5;28mself\u001b[39m\n",
      "File \u001b[0;32m/opt/conda/lib/python3.9/site-packages/lightgbm/sklearn.py:748\u001b[0m, in \u001b[0;36mLGBMModel.fit\u001b[0;34m(self, X, y, sample_weight, init_score, group, eval_set, eval_names, eval_sample_weight, eval_class_weight, eval_init_score, eval_group, eval_metric, early_stopping_rounds, verbose, feature_name, categorical_feature, callbacks, init_model)\u001b[0m\n\u001b[1;32m    745\u001b[0m evals_result \u001b[38;5;241m=\u001b[39m {}\n\u001b[1;32m    746\u001b[0m callbacks\u001b[38;5;241m.\u001b[39mappend(record_evaluation(evals_result))\n\u001b[0;32m--> 748\u001b[0m \u001b[38;5;28mself\u001b[39m\u001b[38;5;241m.\u001b[39m_Booster \u001b[38;5;241m=\u001b[39m \u001b[43mtrain\u001b[49m\u001b[43m(\u001b[49m\n\u001b[1;32m    749\u001b[0m \u001b[43m    \u001b[49m\u001b[43mparams\u001b[49m\u001b[38;5;241;43m=\u001b[39;49m\u001b[43mparams\u001b[49m\u001b[43m,\u001b[49m\n\u001b[1;32m    750\u001b[0m \u001b[43m    \u001b[49m\u001b[43mtrain_set\u001b[49m\u001b[38;5;241;43m=\u001b[39;49m\u001b[43mtrain_set\u001b[49m\u001b[43m,\u001b[49m\n\u001b[1;32m    751\u001b[0m \u001b[43m    \u001b[49m\u001b[43mnum_boost_round\u001b[49m\u001b[38;5;241;43m=\u001b[39;49m\u001b[38;5;28;43mself\u001b[39;49m\u001b[38;5;241;43m.\u001b[39;49m\u001b[43mn_estimators\u001b[49m\u001b[43m,\u001b[49m\n\u001b[1;32m    752\u001b[0m \u001b[43m    \u001b[49m\u001b[43mvalid_sets\u001b[49m\u001b[38;5;241;43m=\u001b[39;49m\u001b[43mvalid_sets\u001b[49m\u001b[43m,\u001b[49m\n\u001b[1;32m    753\u001b[0m \u001b[43m    \u001b[49m\u001b[43mvalid_names\u001b[49m\u001b[38;5;241;43m=\u001b[39;49m\u001b[43meval_names\u001b[49m\u001b[43m,\u001b[49m\n\u001b[1;32m    754\u001b[0m \u001b[43m    \u001b[49m\u001b[43mfobj\u001b[49m\u001b[38;5;241;43m=\u001b[39;49m\u001b[38;5;28;43mself\u001b[39;49m\u001b[38;5;241;43m.\u001b[39;49m\u001b[43m_fobj\u001b[49m\u001b[43m,\u001b[49m\n\u001b[1;32m    755\u001b[0m \u001b[43m    \u001b[49m\u001b[43mfeval\u001b[49m\u001b[38;5;241;43m=\u001b[39;49m\u001b[43meval_metrics_callable\u001b[49m\u001b[43m,\u001b[49m\n\u001b[1;32m    756\u001b[0m \u001b[43m    \u001b[49m\u001b[43minit_model\u001b[49m\u001b[38;5;241;43m=\u001b[39;49m\u001b[43minit_model\u001b[49m\u001b[43m,\u001b[49m\n\u001b[1;32m    757\u001b[0m \u001b[43m    \u001b[49m\u001b[43mfeature_name\u001b[49m\u001b[38;5;241;43m=\u001b[39;49m\u001b[43mfeature_name\u001b[49m\u001b[43m,\u001b[49m\n\u001b[1;32m    758\u001b[0m \u001b[43m    \u001b[49m\u001b[43mcallbacks\u001b[49m\u001b[38;5;241;43m=\u001b[39;49m\u001b[43mcallbacks\u001b[49m\n\u001b[1;32m    759\u001b[0m \u001b[43m\u001b[49m\u001b[43m)\u001b[49m\n\u001b[1;32m    761\u001b[0m \u001b[38;5;28;01mif\u001b[39;00m evals_result:\n\u001b[1;32m    762\u001b[0m     \u001b[38;5;28mself\u001b[39m\u001b[38;5;241m.\u001b[39m_evals_result \u001b[38;5;241m=\u001b[39m evals_result\n",
      "File \u001b[0;32m/opt/conda/lib/python3.9/site-packages/lightgbm/engine.py:271\u001b[0m, in \u001b[0;36mtrain\u001b[0;34m(params, train_set, num_boost_round, valid_sets, valid_names, fobj, feval, init_model, feature_name, categorical_feature, early_stopping_rounds, evals_result, verbose_eval, learning_rates, keep_training_booster, callbacks)\u001b[0m\n\u001b[1;32m    269\u001b[0m \u001b[38;5;66;03m# construct booster\u001b[39;00m\n\u001b[1;32m    270\u001b[0m \u001b[38;5;28;01mtry\u001b[39;00m:\n\u001b[0;32m--> 271\u001b[0m     booster \u001b[38;5;241m=\u001b[39m \u001b[43mBooster\u001b[49m\u001b[43m(\u001b[49m\u001b[43mparams\u001b[49m\u001b[38;5;241;43m=\u001b[39;49m\u001b[43mparams\u001b[49m\u001b[43m,\u001b[49m\u001b[43m \u001b[49m\u001b[43mtrain_set\u001b[49m\u001b[38;5;241;43m=\u001b[39;49m\u001b[43mtrain_set\u001b[49m\u001b[43m)\u001b[49m\n\u001b[1;32m    272\u001b[0m     \u001b[38;5;28;01mif\u001b[39;00m is_valid_contain_train:\n\u001b[1;32m    273\u001b[0m         booster\u001b[38;5;241m.\u001b[39mset_train_data_name(train_data_name)\n",
      "File \u001b[0;32m/opt/conda/lib/python3.9/site-packages/lightgbm/basic.py:2605\u001b[0m, in \u001b[0;36mBooster.__init__\u001b[0;34m(self, params, train_set, model_file, model_str, silent)\u001b[0m\n\u001b[1;32m   2598\u001b[0m     \u001b[38;5;28mself\u001b[39m\u001b[38;5;241m.\u001b[39mset_network(\n\u001b[1;32m   2599\u001b[0m         machines\u001b[38;5;241m=\u001b[39mmachines,\n\u001b[1;32m   2600\u001b[0m         local_listen_port\u001b[38;5;241m=\u001b[39mparams[\u001b[38;5;124m\"\u001b[39m\u001b[38;5;124mlocal_listen_port\u001b[39m\u001b[38;5;124m\"\u001b[39m],\n\u001b[1;32m   2601\u001b[0m         listen_time_out\u001b[38;5;241m=\u001b[39mparams\u001b[38;5;241m.\u001b[39mget(\u001b[38;5;124m\"\u001b[39m\u001b[38;5;124mtime_out\u001b[39m\u001b[38;5;124m\"\u001b[39m, \u001b[38;5;241m120\u001b[39m),\n\u001b[1;32m   2602\u001b[0m         num_machines\u001b[38;5;241m=\u001b[39mparams[\u001b[38;5;124m\"\u001b[39m\u001b[38;5;124mnum_machines\u001b[39m\u001b[38;5;124m\"\u001b[39m]\n\u001b[1;32m   2603\u001b[0m     )\n\u001b[1;32m   2604\u001b[0m \u001b[38;5;66;03m# construct booster object\u001b[39;00m\n\u001b[0;32m-> 2605\u001b[0m \u001b[43mtrain_set\u001b[49m\u001b[38;5;241;43m.\u001b[39;49m\u001b[43mconstruct\u001b[49m\u001b[43m(\u001b[49m\u001b[43m)\u001b[49m\n\u001b[1;32m   2606\u001b[0m \u001b[38;5;66;03m# copy the parameters from train_set\u001b[39;00m\n\u001b[1;32m   2607\u001b[0m params\u001b[38;5;241m.\u001b[39mupdate(train_set\u001b[38;5;241m.\u001b[39mget_params())\n",
      "File \u001b[0;32m/opt/conda/lib/python3.9/site-packages/lightgbm/basic.py:1815\u001b[0m, in \u001b[0;36mDataset.construct\u001b[0;34m(self)\u001b[0m\n\u001b[1;32m   1812\u001b[0m             \u001b[38;5;28mself\u001b[39m\u001b[38;5;241m.\u001b[39m_set_init_score_by_predictor(\u001b[38;5;28mself\u001b[39m\u001b[38;5;241m.\u001b[39m_predictor, \u001b[38;5;28mself\u001b[39m\u001b[38;5;241m.\u001b[39mdata, used_indices)\n\u001b[1;32m   1813\u001b[0m \u001b[38;5;28;01melse\u001b[39;00m:\n\u001b[1;32m   1814\u001b[0m     \u001b[38;5;66;03m# create train\u001b[39;00m\n\u001b[0;32m-> 1815\u001b[0m     \u001b[38;5;28;43mself\u001b[39;49m\u001b[38;5;241;43m.\u001b[39;49m\u001b[43m_lazy_init\u001b[49m\u001b[43m(\u001b[49m\u001b[38;5;28;43mself\u001b[39;49m\u001b[38;5;241;43m.\u001b[39;49m\u001b[43mdata\u001b[49m\u001b[43m,\u001b[49m\u001b[43m \u001b[49m\u001b[43mlabel\u001b[49m\u001b[38;5;241;43m=\u001b[39;49m\u001b[38;5;28;43mself\u001b[39;49m\u001b[38;5;241;43m.\u001b[39;49m\u001b[43mlabel\u001b[49m\u001b[43m,\u001b[49m\n\u001b[1;32m   1816\u001b[0m \u001b[43m                    \u001b[49m\u001b[43mweight\u001b[49m\u001b[38;5;241;43m=\u001b[39;49m\u001b[38;5;28;43mself\u001b[39;49m\u001b[38;5;241;43m.\u001b[39;49m\u001b[43mweight\u001b[49m\u001b[43m,\u001b[49m\u001b[43m \u001b[49m\u001b[43mgroup\u001b[49m\u001b[38;5;241;43m=\u001b[39;49m\u001b[38;5;28;43mself\u001b[39;49m\u001b[38;5;241;43m.\u001b[39;49m\u001b[43mgroup\u001b[49m\u001b[43m,\u001b[49m\n\u001b[1;32m   1817\u001b[0m \u001b[43m                    \u001b[49m\u001b[43minit_score\u001b[49m\u001b[38;5;241;43m=\u001b[39;49m\u001b[38;5;28;43mself\u001b[39;49m\u001b[38;5;241;43m.\u001b[39;49m\u001b[43minit_score\u001b[49m\u001b[43m,\u001b[49m\u001b[43m \u001b[49m\u001b[43mpredictor\u001b[49m\u001b[38;5;241;43m=\u001b[39;49m\u001b[38;5;28;43mself\u001b[39;49m\u001b[38;5;241;43m.\u001b[39;49m\u001b[43m_predictor\u001b[49m\u001b[43m,\u001b[49m\n\u001b[1;32m   1818\u001b[0m \u001b[43m                    \u001b[49m\u001b[43msilent\u001b[49m\u001b[38;5;241;43m=\u001b[39;49m\u001b[38;5;28;43mself\u001b[39;49m\u001b[38;5;241;43m.\u001b[39;49m\u001b[43msilent\u001b[49m\u001b[43m,\u001b[49m\u001b[43m \u001b[49m\u001b[43mfeature_name\u001b[49m\u001b[38;5;241;43m=\u001b[39;49m\u001b[38;5;28;43mself\u001b[39;49m\u001b[38;5;241;43m.\u001b[39;49m\u001b[43mfeature_name\u001b[49m\u001b[43m,\u001b[49m\n\u001b[1;32m   1819\u001b[0m \u001b[43m                    \u001b[49m\u001b[43mcategorical_feature\u001b[49m\u001b[38;5;241;43m=\u001b[39;49m\u001b[38;5;28;43mself\u001b[39;49m\u001b[38;5;241;43m.\u001b[39;49m\u001b[43mcategorical_feature\u001b[49m\u001b[43m,\u001b[49m\u001b[43m \u001b[49m\u001b[43mparams\u001b[49m\u001b[38;5;241;43m=\u001b[39;49m\u001b[38;5;28;43mself\u001b[39;49m\u001b[38;5;241;43m.\u001b[39;49m\u001b[43mparams\u001b[49m\u001b[43m)\u001b[49m\n\u001b[1;32m   1820\u001b[0m \u001b[38;5;28;01mif\u001b[39;00m \u001b[38;5;28mself\u001b[39m\u001b[38;5;241m.\u001b[39mfree_raw_data:\n\u001b[1;32m   1821\u001b[0m     \u001b[38;5;28mself\u001b[39m\u001b[38;5;241m.\u001b[39mdata \u001b[38;5;241m=\u001b[39m \u001b[38;5;28;01mNone\u001b[39;00m\n",
      "File \u001b[0;32m/opt/conda/lib/python3.9/site-packages/lightgbm/basic.py:1474\u001b[0m, in \u001b[0;36mDataset._lazy_init\u001b[0;34m(self, data, label, reference, weight, group, init_score, predictor, silent, feature_name, categorical_feature, params)\u001b[0m\n\u001b[1;32m   1472\u001b[0m     \u001b[38;5;28mself\u001b[39m\u001b[38;5;241m.\u001b[39mpandas_categorical \u001b[38;5;241m=\u001b[39m reference\u001b[38;5;241m.\u001b[39mpandas_categorical\n\u001b[1;32m   1473\u001b[0m     categorical_feature \u001b[38;5;241m=\u001b[39m reference\u001b[38;5;241m.\u001b[39mcategorical_feature\n\u001b[0;32m-> 1474\u001b[0m data, feature_name, categorical_feature, \u001b[38;5;28mself\u001b[39m\u001b[38;5;241m.\u001b[39mpandas_categorical \u001b[38;5;241m=\u001b[39m \u001b[43m_data_from_pandas\u001b[49m\u001b[43m(\u001b[49m\u001b[43mdata\u001b[49m\u001b[43m,\u001b[49m\n\u001b[1;32m   1475\u001b[0m \u001b[43m                                                                                     \u001b[49m\u001b[43mfeature_name\u001b[49m\u001b[43m,\u001b[49m\n\u001b[1;32m   1476\u001b[0m \u001b[43m                                                                                     \u001b[49m\u001b[43mcategorical_feature\u001b[49m\u001b[43m,\u001b[49m\n\u001b[1;32m   1477\u001b[0m \u001b[43m                                                                                     \u001b[49m\u001b[38;5;28;43mself\u001b[39;49m\u001b[38;5;241;43m.\u001b[39;49m\u001b[43mpandas_categorical\u001b[49m\u001b[43m)\u001b[49m\n\u001b[1;32m   1478\u001b[0m label \u001b[38;5;241m=\u001b[39m _label_from_pandas(label)\n\u001b[1;32m   1480\u001b[0m \u001b[38;5;66;03m# process for args\u001b[39;00m\n",
      "File \u001b[0;32m/opt/conda/lib/python3.9/site-packages/lightgbm/basic.py:594\u001b[0m, in \u001b[0;36m_data_from_pandas\u001b[0;34m(data, feature_name, categorical_feature, pandas_categorical)\u001b[0m\n\u001b[1;32m    592\u001b[0m \u001b[38;5;28;01mif\u001b[39;00m bad_indices:\n\u001b[1;32m    593\u001b[0m     bad_index_cols_str \u001b[38;5;241m=\u001b[39m \u001b[38;5;124m'\u001b[39m\u001b[38;5;124m, \u001b[39m\u001b[38;5;124m'\u001b[39m\u001b[38;5;241m.\u001b[39mjoin(data\u001b[38;5;241m.\u001b[39mcolumns[bad_indices])\n\u001b[0;32m--> 594\u001b[0m     \u001b[38;5;28;01mraise\u001b[39;00m \u001b[38;5;167;01mValueError\u001b[39;00m(\u001b[38;5;124m\"\u001b[39m\u001b[38;5;124mDataFrame.dtypes for data must be int, float or bool.\u001b[39m\u001b[38;5;130;01m\\n\u001b[39;00m\u001b[38;5;124m\"\u001b[39m\n\u001b[1;32m    595\u001b[0m                      \u001b[38;5;124m\"\u001b[39m\u001b[38;5;124mDid not expect the data types in the following fields: \u001b[39m\u001b[38;5;124m\"\u001b[39m\n\u001b[1;32m    596\u001b[0m                      \u001b[38;5;124mf\u001b[39m\u001b[38;5;124m\"\u001b[39m\u001b[38;5;132;01m{\u001b[39;00mbad_index_cols_str\u001b[38;5;132;01m}\u001b[39;00m\u001b[38;5;124m\"\u001b[39m)\n\u001b[1;32m    597\u001b[0m data \u001b[38;5;241m=\u001b[39m data\u001b[38;5;241m.\u001b[39mvalues\n\u001b[1;32m    598\u001b[0m \u001b[38;5;28;01mif\u001b[39;00m data\u001b[38;5;241m.\u001b[39mdtype \u001b[38;5;241m!=\u001b[39m np\u001b[38;5;241m.\u001b[39mfloat32 \u001b[38;5;129;01mand\u001b[39;00m data\u001b[38;5;241m.\u001b[39mdtype \u001b[38;5;241m!=\u001b[39m np\u001b[38;5;241m.\u001b[39mfloat64:\n",
      "\u001b[0;31mValueError\u001b[0m: DataFrame.dtypes for data must be int, float or bool.\nDid not expect the data types in the following fields: tconst, primarytitle, startyear, runtimeminutes"
     ]
    }
   ],
   "source": [
    "model = lgb.LGBMClassifier(learning_rate=0.09,max_depth=-5,random_state=42)\n",
    "model.fit(x_train,y_train,eval_set=[(x_test,y_test),(x_train,y_train)],\n",
    "          verbose=20,eval_metric='logloss')"
   ]
  },
  {
   "cell_type": "code",
   "execution_count": null,
   "id": "d11df7f9-47c1-4e99-9224-6ff7843f2ff4",
   "metadata": {},
   "outputs": [],
   "source": [
    "print('Training accuracy {:.4f}'.format(model.score(x_train,y_train)))\n",
    "print('Testing accuracy {:.4f}'.format(model.score(x_test,y_test)))"
   ]
  }
 ],
 "metadata": {
  "kernelspec": {
   "display_name": "Python 3 (ipykernel)",
   "language": "python",
   "name": "python3"
  },
  "language_info": {
   "codemirror_mode": {
    "name": "ipython",
    "version": 3
   },
   "file_extension": ".py",
   "mimetype": "text/x-python",
   "name": "python",
   "nbconvert_exporter": "python",
   "pygments_lexer": "ipython3",
   "version": "3.9.7"
  }
 },
 "nbformat": 4,
 "nbformat_minor": 5
}
